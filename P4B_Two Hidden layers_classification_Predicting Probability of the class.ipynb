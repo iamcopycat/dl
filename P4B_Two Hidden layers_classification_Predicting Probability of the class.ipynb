{
 "cells": [
  {
   "cell_type": "markdown",
   "metadata": {
    "id": "MknS26jd-biH"
   },
   "source": [
    "# **4_B_Using_a_deep_field_forward_network_with_two_hidden_layers_for_performing_classification_and_predicting_the_probability_of_class**"
   ]
  },
  {
   "cell_type": "code",
   "execution_count": 5,
   "metadata": {
    "executionInfo": {
     "elapsed": 507,
     "status": "ok",
     "timestamp": 1680255078407,
     "user": {
      "displayName": "Sneha Kadam",
      "userId": "00740706004237501599"
     },
     "user_tz": -330
    },
    "id": "HoXpRdGp-gMV"
   },
   "outputs": [],
   "source": [
    "from keras.models import Sequential\n",
    "from keras.layers import Dense\n",
    "from sklearn.datasets import make_blobs\n",
    "from sklearn.preprocessing import MinMaxScaler"
   ]
  },
  {
   "cell_type": "code",
   "execution_count": 6,
   "metadata": {
    "executionInfo": {
     "elapsed": 8,
     "status": "ok",
     "timestamp": 1680255080698,
     "user": {
      "displayName": "Sneha Kadam",
      "userId": "00740706004237501599"
     },
     "user_tz": -330
    },
    "id": "o87_Kf2h-4vN"
   },
   "outputs": [],
   "source": [
    "X,Y=make_blobs(n_samples=100,centers=2,n_features=2,random_state=1)"
   ]
  },
  {
   "cell_type": "code",
   "execution_count": 7,
   "metadata": {
    "executionInfo": {
     "elapsed": 605,
     "status": "ok",
     "timestamp": 1680255084758,
     "user": {
      "displayName": "Sneha Kadam",
      "userId": "00740706004237501599"
     },
     "user_tz": -330
    },
    "id": "jniLRA0m_Kkd"
   },
   "outputs": [],
   "source": [
    "scalar=MinMaxScaler()\n",
    "scalar.fit(X)\n",
    "X=scalar.transform(X)"
   ]
  },
  {
   "cell_type": "code",
   "execution_count": 10,
   "metadata": {
    "colab": {
     "base_uri": "https://localhost:8080/"
    },
    "executionInfo": {
     "elapsed": 1949,
     "status": "ok",
     "timestamp": 1680255163903,
     "user": {
      "displayName": "Sneha Kadam",
      "userId": "00740706004237501599"
     },
     "user_tz": -330
    },
    "id": "g2xyJRt5_bHj",
    "outputId": "7ad210b9-d715-418b-f641-c133a59ff880"
   },
   "outputs": [
    {
     "name": "stdout",
     "output_type": "stream",
     "text": [
      "Model: \"sequential\"\n",
      "_________________________________________________________________\n",
      " Layer (type)                Output Shape              Param #   \n",
      "=================================================================\n",
      " dense (Dense)               (None, 4)                 12        \n",
      "                                                                 \n",
      " dense_1 (Dense)             (None, 4)                 20        \n",
      "                                                                 \n",
      " dense_2 (Dense)             (None, 1)                 5         \n",
      "                                                                 \n",
      "=================================================================\n",
      "Total params: 37\n",
      "Trainable params: 37\n",
      "Non-trainable params: 0\n",
      "_________________________________________________________________\n"
     ]
    }
   ],
   "source": [
    "model=Sequential()\n",
    "model.add(Dense(4,input_dim=2,activation='relu'))\n",
    "model.add(Dense(4,activation='relu'))\n",
    "model.add(Dense(1,activation='sigmoid'))\n",
    "model.compile(loss='binary_crossentropy',optimizer='adam')\n",
    "model.summary()"
   ]
  },
  {
   "cell_type": "code",
   "execution_count": 11,
   "metadata": {
    "colab": {
     "base_uri": "https://localhost:8080/"
    },
    "executionInfo": {
     "elapsed": 6334,
     "status": "ok",
     "timestamp": 1680255213203,
     "user": {
      "displayName": "Sneha Kadam",
      "userId": "00740706004237501599"
     },
     "user_tz": -330
    },
    "id": "U2wDGSV8AGQy",
    "outputId": "908e2d6b-a586-4ad5-a3d1-a04237e63254"
   },
   "outputs": [
    {
     "name": "stdout",
     "output_type": "stream",
     "text": [
      "Epoch 1/200\n",
      "4/4 [==============================] - 1s 5ms/step - loss: 0.6934\n",
      "Epoch 2/200\n",
      "4/4 [==============================] - 0s 3ms/step - loss: 0.6932\n",
      "Epoch 3/200\n",
      "4/4 [==============================] - 0s 4ms/step - loss: 0.6930\n",
      "Epoch 4/200\n",
      "4/4 [==============================] - 0s 5ms/step - loss: 0.6930\n",
      "Epoch 5/200\n",
      "4/4 [==============================] - 0s 4ms/step - loss: 0.6929\n",
      "Epoch 6/200\n",
      "4/4 [==============================] - 0s 4ms/step - loss: 0.6929\n",
      "Epoch 7/200\n",
      "4/4 [==============================] - 0s 3ms/step - loss: 0.6929\n",
      "Epoch 8/200\n",
      "4/4 [==============================] - 0s 4ms/step - loss: 0.6929\n",
      "Epoch 9/200\n",
      "4/4 [==============================] - 0s 3ms/step - loss: 0.6929\n",
      "Epoch 10/200\n",
      "4/4 [==============================] - 0s 3ms/step - loss: 0.6928\n",
      "Epoch 11/200\n",
      "4/4 [==============================] - 0s 4ms/step - loss: 0.6928\n",
      "Epoch 12/200\n",
      "4/4 [==============================] - 0s 4ms/step - loss: 0.6928\n",
      "Epoch 13/200\n",
      "4/4 [==============================] - 0s 3ms/step - loss: 0.6927\n",
      "Epoch 14/200\n",
      "4/4 [==============================] - 0s 3ms/step - loss: 0.6926\n",
      "Epoch 15/200\n",
      "4/4 [==============================] - 0s 4ms/step - loss: 0.6925\n",
      "Epoch 16/200\n",
      "4/4 [==============================] - 0s 3ms/step - loss: 0.6924\n",
      "Epoch 17/200\n",
      "4/4 [==============================] - 0s 3ms/step - loss: 0.6922\n",
      "Epoch 18/200\n",
      "4/4 [==============================] - 0s 3ms/step - loss: 0.6921\n",
      "Epoch 19/200\n",
      "4/4 [==============================] - 0s 3ms/step - loss: 0.6918\n",
      "Epoch 20/200\n",
      "4/4 [==============================] - 0s 4ms/step - loss: 0.6916\n",
      "Epoch 21/200\n",
      "4/4 [==============================] - 0s 3ms/step - loss: 0.6913\n",
      "Epoch 22/200\n",
      "4/4 [==============================] - 0s 3ms/step - loss: 0.6910\n",
      "Epoch 23/200\n",
      "4/4 [==============================] - 0s 3ms/step - loss: 0.6908\n",
      "Epoch 24/200\n",
      "4/4 [==============================] - 0s 3ms/step - loss: 0.6905\n",
      "Epoch 25/200\n",
      "4/4 [==============================] - 0s 3ms/step - loss: 0.6901\n",
      "Epoch 26/200\n",
      "4/4 [==============================] - 0s 4ms/step - loss: 0.6897\n",
      "Epoch 27/200\n",
      "4/4 [==============================] - 0s 3ms/step - loss: 0.6893\n",
      "Epoch 28/200\n",
      "4/4 [==============================] - 0s 3ms/step - loss: 0.6888\n",
      "Epoch 29/200\n",
      "4/4 [==============================] - 0s 3ms/step - loss: 0.6882\n",
      "Epoch 30/200\n",
      "4/4 [==============================] - 0s 5ms/step - loss: 0.6877\n",
      "Epoch 31/200\n",
      "4/4 [==============================] - 0s 4ms/step - loss: 0.6871\n",
      "Epoch 32/200\n",
      "4/4 [==============================] - 0s 3ms/step - loss: 0.6865\n",
      "Epoch 33/200\n",
      "4/4 [==============================] - 0s 3ms/step - loss: 0.6858\n",
      "Epoch 34/200\n",
      "4/4 [==============================] - 0s 3ms/step - loss: 0.6852\n",
      "Epoch 35/200\n",
      "4/4 [==============================] - 0s 3ms/step - loss: 0.6845\n",
      "Epoch 36/200\n",
      "4/4 [==============================] - 0s 3ms/step - loss: 0.6838\n",
      "Epoch 37/200\n",
      "4/4 [==============================] - 0s 4ms/step - loss: 0.6831\n",
      "Epoch 38/200\n",
      "4/4 [==============================] - 0s 4ms/step - loss: 0.6823\n",
      "Epoch 39/200\n",
      "4/4 [==============================] - 0s 4ms/step - loss: 0.6815\n",
      "Epoch 40/200\n",
      "4/4 [==============================] - 0s 3ms/step - loss: 0.6807\n",
      "Epoch 41/200\n",
      "4/4 [==============================] - 0s 3ms/step - loss: 0.6798\n",
      "Epoch 42/200\n",
      "4/4 [==============================] - 0s 3ms/step - loss: 0.6790\n",
      "Epoch 43/200\n",
      "4/4 [==============================] - 0s 4ms/step - loss: 0.6781\n",
      "Epoch 44/200\n",
      "4/4 [==============================] - 0s 3ms/step - loss: 0.6772\n",
      "Epoch 45/200\n",
      "4/4 [==============================] - 0s 4ms/step - loss: 0.6762\n",
      "Epoch 46/200\n",
      "4/4 [==============================] - 0s 3ms/step - loss: 0.6752\n",
      "Epoch 47/200\n",
      "4/4 [==============================] - 0s 3ms/step - loss: 0.6742\n",
      "Epoch 48/200\n",
      "4/4 [==============================] - 0s 3ms/step - loss: 0.6730\n",
      "Epoch 49/200\n",
      "4/4 [==============================] - 0s 3ms/step - loss: 0.6719\n",
      "Epoch 50/200\n",
      "4/4 [==============================] - 0s 3ms/step - loss: 0.6706\n",
      "Epoch 51/200\n",
      "4/4 [==============================] - 0s 5ms/step - loss: 0.6695\n",
      "Epoch 52/200\n",
      "4/4 [==============================] - 0s 4ms/step - loss: 0.6681\n",
      "Epoch 53/200\n",
      "4/4 [==============================] - 0s 3ms/step - loss: 0.6669\n",
      "Epoch 54/200\n",
      "4/4 [==============================] - 0s 3ms/step - loss: 0.6655\n",
      "Epoch 55/200\n",
      "4/4 [==============================] - 0s 3ms/step - loss: 0.6641\n",
      "Epoch 56/200\n",
      "4/4 [==============================] - 0s 6ms/step - loss: 0.6627\n",
      "Epoch 57/200\n",
      "4/4 [==============================] - 0s 3ms/step - loss: 0.6613\n",
      "Epoch 58/200\n",
      "4/4 [==============================] - 0s 5ms/step - loss: 0.6598\n",
      "Epoch 59/200\n",
      "4/4 [==============================] - 0s 4ms/step - loss: 0.6581\n",
      "Epoch 60/200\n",
      "4/4 [==============================] - 0s 3ms/step - loss: 0.6566\n",
      "Epoch 61/200\n",
      "4/4 [==============================] - 0s 3ms/step - loss: 0.6549\n",
      "Epoch 62/200\n",
      "4/4 [==============================] - 0s 3ms/step - loss: 0.6532\n",
      "Epoch 63/200\n",
      "4/4 [==============================] - 0s 3ms/step - loss: 0.6516\n",
      "Epoch 64/200\n",
      "4/4 [==============================] - 0s 3ms/step - loss: 0.6498\n",
      "Epoch 65/200\n",
      "4/4 [==============================] - 0s 4ms/step - loss: 0.6479\n",
      "Epoch 66/200\n",
      "4/4 [==============================] - 0s 4ms/step - loss: 0.6460\n",
      "Epoch 67/200\n",
      "4/4 [==============================] - 0s 4ms/step - loss: 0.6442\n",
      "Epoch 68/200\n",
      "4/4 [==============================] - 0s 3ms/step - loss: 0.6422\n",
      "Epoch 69/200\n",
      "4/4 [==============================] - 0s 3ms/step - loss: 0.6403\n",
      "Epoch 70/200\n",
      "4/4 [==============================] - 0s 4ms/step - loss: 0.6384\n",
      "Epoch 71/200\n",
      "4/4 [==============================] - 0s 5ms/step - loss: 0.6363\n",
      "Epoch 72/200\n",
      "4/4 [==============================] - 0s 4ms/step - loss: 0.6344\n",
      "Epoch 73/200\n",
      "4/4 [==============================] - 0s 3ms/step - loss: 0.6323\n",
      "Epoch 74/200\n",
      "4/4 [==============================] - 0s 3ms/step - loss: 0.6302\n",
      "Epoch 75/200\n",
      "4/4 [==============================] - 0s 3ms/step - loss: 0.6282\n",
      "Epoch 76/200\n",
      "4/4 [==============================] - 0s 3ms/step - loss: 0.6261\n",
      "Epoch 77/200\n",
      "4/4 [==============================] - 0s 3ms/step - loss: 0.6240\n",
      "Epoch 78/200\n",
      "4/4 [==============================] - 0s 3ms/step - loss: 0.6219\n",
      "Epoch 79/200\n",
      "4/4 [==============================] - 0s 3ms/step - loss: 0.6194\n",
      "Epoch 80/200\n",
      "4/4 [==============================] - 0s 3ms/step - loss: 0.6171\n",
      "Epoch 81/200\n",
      "4/4 [==============================] - 0s 3ms/step - loss: 0.6148\n",
      "Epoch 82/200\n",
      "4/4 [==============================] - 0s 4ms/step - loss: 0.6125\n",
      "Epoch 83/200\n",
      "4/4 [==============================] - 0s 3ms/step - loss: 0.6099\n",
      "Epoch 84/200\n",
      "4/4 [==============================] - 0s 4ms/step - loss: 0.6077\n",
      "Epoch 85/200\n",
      "4/4 [==============================] - 0s 4ms/step - loss: 0.6054\n",
      "Epoch 86/200\n",
      "4/4 [==============================] - 0s 4ms/step - loss: 0.6029\n",
      "Epoch 87/200\n",
      "4/4 [==============================] - 0s 4ms/step - loss: 0.6004\n",
      "Epoch 88/200\n",
      "4/4 [==============================] - 0s 4ms/step - loss: 0.5980\n",
      "Epoch 89/200\n",
      "4/4 [==============================] - 0s 3ms/step - loss: 0.5953\n",
      "Epoch 90/200\n",
      "4/4 [==============================] - 0s 4ms/step - loss: 0.5927\n",
      "Epoch 91/200\n",
      "4/4 [==============================] - 0s 3ms/step - loss: 0.5901\n",
      "Epoch 92/200\n",
      "4/4 [==============================] - 0s 3ms/step - loss: 0.5875\n",
      "Epoch 93/200\n",
      "4/4 [==============================] - 0s 3ms/step - loss: 0.5850\n",
      "Epoch 94/200\n",
      "4/4 [==============================] - 0s 3ms/step - loss: 0.5822\n",
      "Epoch 95/200\n",
      "4/4 [==============================] - 0s 3ms/step - loss: 0.5794\n",
      "Epoch 96/200\n",
      "4/4 [==============================] - 0s 4ms/step - loss: 0.5766\n",
      "Epoch 97/200\n",
      "4/4 [==============================] - 0s 4ms/step - loss: 0.5739\n",
      "Epoch 98/200\n",
      "4/4 [==============================] - 0s 4ms/step - loss: 0.5712\n",
      "Epoch 99/200\n",
      "4/4 [==============================] - 0s 4ms/step - loss: 0.5685\n",
      "Epoch 100/200\n",
      "4/4 [==============================] - 0s 4ms/step - loss: 0.5658\n",
      "Epoch 101/200\n",
      "4/4 [==============================] - 0s 4ms/step - loss: 0.5631\n",
      "Epoch 102/200\n",
      "4/4 [==============================] - 0s 3ms/step - loss: 0.5604\n",
      "Epoch 103/200\n",
      "4/4 [==============================] - 0s 4ms/step - loss: 0.5574\n",
      "Epoch 104/200\n",
      "4/4 [==============================] - 0s 4ms/step - loss: 0.5547\n",
      "Epoch 105/200\n",
      "4/4 [==============================] - 0s 4ms/step - loss: 0.5518\n",
      "Epoch 106/200\n",
      "4/4 [==============================] - 0s 4ms/step - loss: 0.5488\n",
      "Epoch 107/200\n",
      "4/4 [==============================] - 0s 4ms/step - loss: 0.5459\n",
      "Epoch 108/200\n",
      "4/4 [==============================] - 0s 4ms/step - loss: 0.5429\n",
      "Epoch 109/200\n",
      "4/4 [==============================] - 0s 5ms/step - loss: 0.5400\n",
      "Epoch 110/200\n",
      "4/4 [==============================] - 0s 4ms/step - loss: 0.5370\n",
      "Epoch 111/200\n",
      "4/4 [==============================] - 0s 5ms/step - loss: 0.5338\n",
      "Epoch 112/200\n",
      "4/4 [==============================] - 0s 4ms/step - loss: 0.5309\n",
      "Epoch 113/200\n",
      "4/4 [==============================] - 0s 5ms/step - loss: 0.5279\n",
      "Epoch 114/200\n",
      "4/4 [==============================] - 0s 4ms/step - loss: 0.5250\n",
      "Epoch 115/200\n",
      "4/4 [==============================] - 0s 4ms/step - loss: 0.5222\n",
      "Epoch 116/200\n",
      "4/4 [==============================] - 0s 4ms/step - loss: 0.5193\n",
      "Epoch 117/200\n",
      "4/4 [==============================] - 0s 3ms/step - loss: 0.5161\n",
      "Epoch 118/200\n",
      "4/4 [==============================] - 0s 4ms/step - loss: 0.5132\n",
      "Epoch 119/200\n",
      "4/4 [==============================] - 0s 4ms/step - loss: 0.5101\n",
      "Epoch 120/200\n",
      "4/4 [==============================] - 0s 5ms/step - loss: 0.5072\n",
      "Epoch 121/200\n",
      "4/4 [==============================] - 0s 4ms/step - loss: 0.5043\n",
      "Epoch 122/200\n",
      "4/4 [==============================] - 0s 4ms/step - loss: 0.5014\n",
      "Epoch 123/200\n",
      "4/4 [==============================] - 0s 4ms/step - loss: 0.4984\n",
      "Epoch 124/200\n",
      "4/4 [==============================] - 0s 4ms/step - loss: 0.4955\n",
      "Epoch 125/200\n",
      "4/4 [==============================] - 0s 4ms/step - loss: 0.4925\n",
      "Epoch 126/200\n",
      "4/4 [==============================] - 0s 4ms/step - loss: 0.4896\n",
      "Epoch 127/200\n",
      "4/4 [==============================] - 0s 4ms/step - loss: 0.4865\n",
      "Epoch 128/200\n",
      "4/4 [==============================] - 0s 4ms/step - loss: 0.4836\n",
      "Epoch 129/200\n",
      "4/4 [==============================] - 0s 4ms/step - loss: 0.4808\n",
      "Epoch 130/200\n",
      "4/4 [==============================] - 0s 4ms/step - loss: 0.4778\n",
      "Epoch 131/200\n",
      "4/4 [==============================] - 0s 5ms/step - loss: 0.4750\n",
      "Epoch 132/200\n",
      "4/4 [==============================] - 0s 4ms/step - loss: 0.4722\n",
      "Epoch 133/200\n",
      "4/4 [==============================] - 0s 4ms/step - loss: 0.4694\n",
      "Epoch 134/200\n",
      "4/4 [==============================] - 0s 4ms/step - loss: 0.4666\n",
      "Epoch 135/200\n",
      "4/4 [==============================] - 0s 5ms/step - loss: 0.4638\n",
      "Epoch 136/200\n",
      "4/4 [==============================] - 0s 6ms/step - loss: 0.4609\n",
      "Epoch 137/200\n",
      "4/4 [==============================] - 0s 5ms/step - loss: 0.4580\n",
      "Epoch 138/200\n",
      "4/4 [==============================] - 0s 4ms/step - loss: 0.4552\n",
      "Epoch 139/200\n",
      "4/4 [==============================] - 0s 4ms/step - loss: 0.4523\n",
      "Epoch 140/200\n",
      "4/4 [==============================] - 0s 5ms/step - loss: 0.4495\n",
      "Epoch 141/200\n",
      "4/4 [==============================] - 0s 4ms/step - loss: 0.4466\n",
      "Epoch 142/200\n",
      "4/4 [==============================] - 0s 4ms/step - loss: 0.4438\n",
      "Epoch 143/200\n",
      "4/4 [==============================] - 0s 4ms/step - loss: 0.4409\n",
      "Epoch 144/200\n",
      "4/4 [==============================] - 0s 4ms/step - loss: 0.4382\n",
      "Epoch 145/200\n",
      "4/4 [==============================] - 0s 4ms/step - loss: 0.4354\n",
      "Epoch 146/200\n",
      "4/4 [==============================] - 0s 4ms/step - loss: 0.4326\n",
      "Epoch 147/200\n",
      "4/4 [==============================] - 0s 4ms/step - loss: 0.4299\n",
      "Epoch 148/200\n",
      "4/4 [==============================] - 0s 4ms/step - loss: 0.4272\n",
      "Epoch 149/200\n",
      "4/4 [==============================] - 0s 4ms/step - loss: 0.4246\n",
      "Epoch 150/200\n",
      "4/4 [==============================] - 0s 4ms/step - loss: 0.4220\n",
      "Epoch 151/200\n",
      "4/4 [==============================] - 0s 4ms/step - loss: 0.4194\n",
      "Epoch 152/200\n",
      "4/4 [==============================] - 0s 5ms/step - loss: 0.4168\n",
      "Epoch 153/200\n",
      "4/4 [==============================] - 0s 4ms/step - loss: 0.4142\n",
      "Epoch 154/200\n",
      "4/4 [==============================] - 0s 4ms/step - loss: 0.4117\n",
      "Epoch 155/200\n",
      "4/4 [==============================] - 0s 5ms/step - loss: 0.4092\n",
      "Epoch 156/200\n",
      "4/4 [==============================] - 0s 5ms/step - loss: 0.4067\n",
      "Epoch 157/200\n",
      "4/4 [==============================] - 0s 5ms/step - loss: 0.4042\n",
      "Epoch 158/200\n",
      "4/4 [==============================] - 0s 5ms/step - loss: 0.4017\n",
      "Epoch 159/200\n",
      "4/4 [==============================] - 0s 5ms/step - loss: 0.3994\n",
      "Epoch 160/200\n",
      "4/4 [==============================] - 0s 5ms/step - loss: 0.3969\n",
      "Epoch 161/200\n",
      "4/4 [==============================] - 0s 5ms/step - loss: 0.3945\n",
      "Epoch 162/200\n",
      "4/4 [==============================] - 0s 4ms/step - loss: 0.3921\n",
      "Epoch 163/200\n",
      "4/4 [==============================] - 0s 5ms/step - loss: 0.3897\n",
      "Epoch 164/200\n",
      "4/4 [==============================] - 0s 4ms/step - loss: 0.3875\n",
      "Epoch 165/200\n",
      "4/4 [==============================] - 0s 4ms/step - loss: 0.3852\n",
      "Epoch 166/200\n",
      "4/4 [==============================] - 0s 4ms/step - loss: 0.3829\n",
      "Epoch 167/200\n",
      "4/4 [==============================] - 0s 4ms/step - loss: 0.3806\n",
      "Epoch 168/200\n",
      "4/4 [==============================] - 0s 4ms/step - loss: 0.3783\n",
      "Epoch 169/200\n",
      "4/4 [==============================] - 0s 4ms/step - loss: 0.3760\n",
      "Epoch 170/200\n",
      "4/4 [==============================] - 0s 4ms/step - loss: 0.3738\n",
      "Epoch 171/200\n",
      "4/4 [==============================] - 0s 6ms/step - loss: 0.3716\n",
      "Epoch 172/200\n",
      "4/4 [==============================] - 0s 5ms/step - loss: 0.3695\n",
      "Epoch 173/200\n",
      "4/4 [==============================] - 0s 4ms/step - loss: 0.3674\n",
      "Epoch 174/200\n",
      "4/4 [==============================] - 0s 4ms/step - loss: 0.3653\n",
      "Epoch 175/200\n",
      "4/4 [==============================] - 0s 4ms/step - loss: 0.3632\n",
      "Epoch 176/200\n",
      "4/4 [==============================] - 0s 4ms/step - loss: 0.3613\n",
      "Epoch 177/200\n",
      "4/4 [==============================] - 0s 4ms/step - loss: 0.3592\n",
      "Epoch 178/200\n",
      "4/4 [==============================] - 0s 4ms/step - loss: 0.3572\n",
      "Epoch 179/200\n",
      "4/4 [==============================] - 0s 4ms/step - loss: 0.3553\n",
      "Epoch 180/200\n",
      "4/4 [==============================] - 0s 4ms/step - loss: 0.3533\n",
      "Epoch 181/200\n",
      "4/4 [==============================] - 0s 4ms/step - loss: 0.3513\n",
      "Epoch 182/200\n",
      "4/4 [==============================] - 0s 4ms/step - loss: 0.3493\n",
      "Epoch 183/200\n",
      "4/4 [==============================] - 0s 4ms/step - loss: 0.3473\n",
      "Epoch 184/200\n",
      "4/4 [==============================] - 0s 4ms/step - loss: 0.3454\n",
      "Epoch 185/200\n",
      "4/4 [==============================] - 0s 4ms/step - loss: 0.3435\n",
      "Epoch 186/200\n",
      "4/4 [==============================] - 0s 3ms/step - loss: 0.3417\n",
      "Epoch 187/200\n",
      "4/4 [==============================] - 0s 4ms/step - loss: 0.3398\n",
      "Epoch 188/200\n",
      "4/4 [==============================] - 0s 5ms/step - loss: 0.3380\n",
      "Epoch 189/200\n",
      "4/4 [==============================] - 0s 4ms/step - loss: 0.3362\n",
      "Epoch 190/200\n",
      "4/4 [==============================] - 0s 5ms/step - loss: 0.3345\n",
      "Epoch 191/200\n",
      "4/4 [==============================] - 0s 4ms/step - loss: 0.3327\n",
      "Epoch 192/200\n",
      "4/4 [==============================] - 0s 4ms/step - loss: 0.3310\n",
      "Epoch 193/200\n",
      "4/4 [==============================] - 0s 4ms/step - loss: 0.3292\n",
      "Epoch 194/200\n",
      "4/4 [==============================] - 0s 4ms/step - loss: 0.3275\n",
      "Epoch 195/200\n",
      "4/4 [==============================] - 0s 4ms/step - loss: 0.3258\n",
      "Epoch 196/200\n",
      "4/4 [==============================] - 0s 4ms/step - loss: 0.3241\n",
      "Epoch 197/200\n",
      "4/4 [==============================] - 0s 4ms/step - loss: 0.3224\n",
      "Epoch 198/200\n",
      "4/4 [==============================] - 0s 4ms/step - loss: 0.3208\n",
      "Epoch 199/200\n",
      "4/4 [==============================] - 0s 3ms/step - loss: 0.3191\n",
      "Epoch 200/200\n",
      "4/4 [==============================] - 0s 4ms/step - loss: 0.3174\n"
     ]
    },
    {
     "data": {
      "text/plain": [
       "<keras.callbacks.History at 0x7faf4284ddc0>"
      ]
     },
     "execution_count": 11,
     "metadata": {},
     "output_type": "execute_result"
    }
   ],
   "source": [
    "model.fit(X,Y,epochs=200)"
   ]
  },
  {
   "cell_type": "code",
   "execution_count": 12,
   "metadata": {
    "executionInfo": {
     "elapsed": 509,
     "status": "ok",
     "timestamp": 1680255286327,
     "user": {
      "displayName": "Sneha Kadam",
      "userId": "00740706004237501599"
     },
     "user_tz": -330
    },
    "id": "RPkTulPEAGcL"
   },
   "outputs": [],
   "source": [
    "Xnew,Yreal=make_blobs(n_samples=3,centers=2,n_features=2,random_state=1)"
   ]
  },
  {
   "cell_type": "code",
   "execution_count": 13,
   "metadata": {
    "colab": {
     "base_uri": "https://localhost:8080/"
    },
    "executionInfo": {
     "elapsed": 6,
     "status": "ok",
     "timestamp": 1680255321536,
     "user": {
      "displayName": "Sneha Kadam",
      "userId": "00740706004237501599"
     },
     "user_tz": -330
    },
    "id": "VRgj0MYbBPzy",
    "outputId": "1f0fe01c-a4ee-4566-8f60-d59e80c84db4"
   },
   "outputs": [
    {
     "name": "stdout",
     "output_type": "stream",
     "text": [
      "1/1 [==============================] - 0s 87ms/step\n"
     ]
    }
   ],
   "source": [
    "Xnew=scalar.transform(Xnew)\n",
    "Yclass=model.predict(Xnew)"
   ]
  },
  {
   "cell_type": "code",
   "execution_count": 20,
   "metadata": {
    "colab": {
     "base_uri": "https://localhost:8080/"
    },
    "executionInfo": {
     "elapsed": 9,
     "status": "ok",
     "timestamp": 1680255613221,
     "user": {
      "displayName": "Sneha Kadam",
      "userId": "00740706004237501599"
     },
     "user_tz": -330
    },
    "id": "9infCIOtBYVI",
    "outputId": "f2d3e6ab-4ac3-4e69-849f-68d9751478cc"
   },
   "outputs": [
    {
     "name": "stdout",
     "output_type": "stream",
     "text": [
      "1/1 [==============================] - 0s 22ms/step\n"
     ]
    },
    {
     "data": {
      "text/plain": [
       "array([[0.44989574, 0.55010426],\n",
       "       [0.88600922, 0.11399078],\n",
       "       [0.40626541, 0.59373459]])"
      ]
     },
     "execution_count": 20,
     "metadata": {},
     "output_type": "execute_result"
    }
   ],
   "source": [
    "import numpy as np\n",
    "def predict_prob(number):\n",
    "  return [number[0],1-number[0]]\n",
    "\n",
    "y_prob = np.array(list(map(predict_prob, model.predict(Xnew))))\n",
    "y_prob "
   ]
  },
  {
   "cell_type": "code",
   "execution_count": 21,
   "metadata": {
    "colab": {
     "base_uri": "https://localhost:8080/"
    },
    "executionInfo": {
     "elapsed": 429,
     "status": "ok",
     "timestamp": 1680255756942,
     "user": {
      "displayName": "Sneha Kadam",
      "userId": "00740706004237501599"
     },
     "user_tz": -330
    },
    "id": "amrchiR9B0Ry",
    "outputId": "398f68fa-7fcc-4b9a-e6f2-e3b2d4330b30"
   },
   "outputs": [
    {
     "name": "stdout",
     "output_type": "stream",
     "text": [
      "X=[0.89337759 0.65864154],Predicted_probability=[0.44989574 0.55010426],Predicted_class=[0.44989574]\n",
      "X=[0.29097707 0.12978982],Predicted_probability=[0.88600922 0.11399078],Predicted_class=[0.8860092]\n",
      "X=[0.78082614 0.75391697],Predicted_probability=[0.40626541 0.59373459],Predicted_class=[0.4062654]\n"
     ]
    }
   ],
   "source": [
    "for i in range(len(Xnew)):\n",
    "  print(\"X=%s,Predicted_probability=%s,Predicted_class=%s\"%(Xnew[i],y_prob[i],Yclass[i]))\n",
    "  "
   ]
  },
  {
   "cell_type": "code",
   "execution_count": 22,
   "metadata": {
    "colab": {
     "base_uri": "https://localhost:8080/"
    },
    "executionInfo": {
     "elapsed": 1373,
     "status": "ok",
     "timestamp": 1680255863781,
     "user": {
      "displayName": "Sneha Kadam",
      "userId": "00740706004237501599"
     },
     "user_tz": -330
    },
    "id": "rN6jmKA_DCsi",
    "outputId": "3b88b21b-2b5b-40eb-f1ee-f8eb04c3f597"
   },
   "outputs": [
    {
     "name": "stdout",
     "output_type": "stream",
     "text": [
      "1/1 [==============================] - 0s 89ms/step\n"
     ]
    },
    {
     "data": {
      "text/plain": [
       "array([0, 0, 0])"
      ]
     },
     "execution_count": 22,
     "metadata": {},
     "output_type": "execute_result"
    }
   ],
   "source": [
    "predict_prob=model.predict([Xnew])\n",
    "\n",
    "predict_classes=np.argmax(predict_prob,axis=1)\n",
    "predict_classes"
   ]
  }
 ],
 "metadata": {
  "colab": {
   "authorship_tag": "ABX9TyM25Sf3ibahq2QlAqbKP3iC",
   "provenance": []
  },
  "kernelspec": {
   "display_name": "Python 3 (ipykernel)",
   "language": "python",
   "name": "python3"
  },
  "language_info": {
   "codemirror_mode": {
    "name": "ipython",
    "version": 3
   },
   "file_extension": ".py",
   "mimetype": "text/x-python",
   "name": "python",
   "nbconvert_exporter": "python",
   "pygments_lexer": "ipython3",
   "version": "3.11.4"
  }
 },
 "nbformat": 4,
 "nbformat_minor": 1
}
