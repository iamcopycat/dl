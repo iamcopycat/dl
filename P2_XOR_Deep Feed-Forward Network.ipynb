{
 "cells": [
  {
   "cell_type": "markdown",
   "metadata": {
    "id": "XVV-2-FENuX2"
   },
   "source": [
    "### **Solving XOR problem using deep feed forward network**"
   ]
  },
  {
   "cell_type": "code",
   "execution_count": 1,
   "metadata": {
    "executionInfo": {
     "elapsed": 37,
     "status": "ok",
     "timestamp": 1683043789416,
     "user": {
      "displayName": "Sneha Kadam",
      "userId": "00740706004237501599"
     },
     "user_tz": -330
    },
    "id": "mIjYOjUQN3vz"
   },
   "outputs": [],
   "source": [
    "# importing Python library \n",
    "import numpy as np  "
   ]
  },
  {
   "cell_type": "code",
   "execution_count": 2,
   "metadata": {
    "executionInfo": {
     "elapsed": 36,
     "status": "ok",
     "timestamp": 1683043789418,
     "user": {
      "displayName": "Sneha Kadam",
      "userId": "00740706004237501599"
     },
     "user_tz": -330
    },
    "id": "nS4I8hqVN6Bd"
   },
   "outputs": [],
   "source": [
    "# define Unit Step Function \n",
    "def unitStep(v): \n",
    "    if v >= 0: \n",
    "        return 1\n",
    "    else: \n",
    "        return 0\n"
   ]
  },
  {
   "cell_type": "code",
   "execution_count": 3,
   "metadata": {
    "executionInfo": {
     "elapsed": 36,
     "status": "ok",
     "timestamp": 1683043789419,
     "user": {
      "displayName": "Sneha Kadam",
      "userId": "00740706004237501599"
     },
     "user_tz": -330
    },
    "id": "_4OOI5HAN-zs"
   },
   "outputs": [],
   "source": [
    "# design Perceptron Model \n",
    "def perceptronModel(x, w, b): \n",
    "    v = np.dot(w, x) + b \n",
    "    y = unitStep(v) \n",
    "    return y\n",
    "\n"
   ]
  },
  {
   "cell_type": "code",
   "execution_count": 4,
   "metadata": {
    "executionInfo": {
     "elapsed": 35,
     "status": "ok",
     "timestamp": 1683043789420,
     "user": {
      "displayName": "Sneha Kadam",
      "userId": "00740706004237501599"
     },
     "user_tz": -330
    },
    "id": "LJSZsRvNOMzV"
   },
   "outputs": [],
   "source": [
    "# NOT Logic Function \n",
    "# wNOT = -1, bNOT = 0.5 \n",
    "\n",
    "def NOT_logicFunction(x): \n",
    "    wNOT = -1\n",
    "    bNOT = 0.5\n",
    "    return perceptronModel(x, wNOT, bNOT)"
   ]
  },
  {
   "cell_type": "code",
   "execution_count": 5,
   "metadata": {
    "executionInfo": {
     "elapsed": 33,
     "status": "ok",
     "timestamp": 1683043789421,
     "user": {
      "displayName": "Sneha Kadam",
      "userId": "00740706004237501599"
     },
     "user_tz": -330
    },
    "id": "56l_TJJgOPxn"
   },
   "outputs": [],
   "source": [
    "# AND Logic Function \n",
    "# here w1 = wAND1 = 1,  \n",
    "# w2 = wAND2 = 1, bAND = -1.5 \n",
    "\n",
    "def AND_logicFunction(x): \n",
    "    w = np.array([1, 1]) \n",
    "    bAND = -1.5\n",
    "    return perceptronModel(x, w, bAND) \n",
    "     "
   ]
  },
  {
   "cell_type": "code",
   "execution_count": 6,
   "metadata": {
    "executionInfo": {
     "elapsed": 33,
     "status": "ok",
     "timestamp": 1683043789422,
     "user": {
      "displayName": "Sneha Kadam",
      "userId": "00740706004237501599"
     },
     "user_tz": -330
    },
    "id": "Ym2TQ9JLOTt2"
   },
   "outputs": [],
   "source": [
    "# OR Logic Function \n",
    "# w1 = 1, w2 = 1, bOR = -0.5 \n",
    "\n",
    "def OR_logicFunction(x): \n",
    "    w = np.array([1, 1]) \n",
    "    bOR = -0.5\n",
    "    return perceptronModel(x, w, bOR)"
   ]
  },
  {
   "cell_type": "code",
   "execution_count": 7,
   "metadata": {
    "executionInfo": {
     "elapsed": 32,
     "status": "ok",
     "timestamp": 1683043789422,
     "user": {
      "displayName": "Sneha Kadam",
      "userId": "00740706004237501599"
     },
     "user_tz": -330
    },
    "id": "8JYohLr9OWe-"
   },
   "outputs": [],
   "source": [
    "# XOR Logic Function \n",
    "# with AND, OR and NOT   \n",
    "# function calls in sequence \n",
    "def XOR_logicFunction(x):\n",
    "  y1 = AND_logicFunction(x)\n",
    "  y2 = OR_logicFunction(x)\n",
    "  y3 = NOT_logicFunction(y1)\n",
    "  final_x = np.array([y2, y3])\n",
    "  finalOutput = AND_logicFunction(final_x)\n",
    "  y3 = NOT_logicFunction(y1)\n",
    "  return finalOutput"
   ]
  },
  {
   "cell_type": "code",
   "execution_count": 8,
   "metadata": {
    "colab": {
     "base_uri": "https://localhost:8080/"
    },
    "executionInfo": {
     "elapsed": 32,
     "status": "ok",
     "timestamp": 1683043789423,
     "user": {
      "displayName": "Sneha Kadam",
      "userId": "00740706004237501599"
     },
     "user_tz": -330
    },
    "id": "lH_j4Ot_Obtc",
    "outputId": "f1dc1015-2605-47a3-bf25-02231c47d26e"
   },
   "outputs": [
    {
     "name": "stdout",
     "output_type": "stream",
     "text": [
      "XOR(0, 1) = 1\n",
      "XOR(1, 1) = 0\n",
      "XOR(0, 0) = 0\n",
      "XOR(1, 0) = 1\n"
     ]
    }
   ],
   "source": [
    "# testing the Perceptron Model \n",
    "test1 = np.array([0, 1]) \n",
    "test2 = np.array([1, 1]) \n",
    "test3 = np.array([0, 0]) \n",
    "test4 = np.array([1, 0])\n",
    "\n",
    "\n",
    "print(\"XOR({}, {}) = {}\".format(0, 1, XOR_logicFunction(test1)))\n",
    "print(\"XOR({}, {}) = {}\".format(1, 1, XOR_logicFunction(test2)))\n",
    "print(\"XOR({}, {}) = {}\".format(0, 0, XOR_logicFunction(test3)))\n",
    "print(\"XOR({}, {}) = {}\".format(1, 0, XOR_logicFunction(test4)))"
   ]
  }
 ],
 "metadata": {
  "colab": {
   "authorship_tag": "ABX9TyPndvKH+e8VwNVwVwnroIvz",
   "provenance": []
  },
  "kernelspec": {
   "display_name": "Python 3 (ipykernel)",
   "language": "python",
   "name": "python3"
  },
  "language_info": {
   "codemirror_mode": {
    "name": "ipython",
    "version": 3
   },
   "file_extension": ".py",
   "mimetype": "text/x-python",
   "name": "python",
   "nbconvert_exporter": "python",
   "pygments_lexer": "ipython3",
   "version": "3.11.4"
  }
 },
 "nbformat": 4,
 "nbformat_minor": 1
}
