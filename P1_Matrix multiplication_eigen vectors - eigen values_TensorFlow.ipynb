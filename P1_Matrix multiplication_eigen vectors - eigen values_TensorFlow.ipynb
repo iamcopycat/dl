{
 "cells": [
  {
   "cell_type": "markdown",
   "metadata": {
    "id": "F0KqDuhJL23f"
   },
   "source": [
    "### **Performing matrix multiplication and finding eigen vectors and eigen values using TensorFlow**"
   ]
  },
  {
   "cell_type": "code",
   "execution_count": 1,
   "metadata": {
    "colab": {
     "base_uri": "https://localhost:8080/"
    },
    "executionInfo": {
     "elapsed": 698,
     "status": "ok",
     "timestamp": 1683043248415,
     "user": {
      "displayName": "Sneha Kadam",
      "userId": "00740706004237501599"
     },
     "user_tz": -330
    },
    "id": "yAgh-6w_L-H8",
    "outputId": "2afecf41-1d0b-4b35-885b-7ed44cae256a"
   },
   "outputs": [
    {
     "name": "stdout",
     "output_type": "stream",
     "text": [
      "Printing the Original square array:\n",
      " [[1 2]\n",
      " [2 3]]\n",
      "\n",
      "***************************************\n",
      "\n",
      "Printing the Eigen values of the given square array:\n",
      " [-0.23606798  4.23606798]\n",
      "\n",
      "Printing Right Eigen Vectors of the given square array:\n",
      " [[-0.85065081 -0.52573111]\n",
      " [ 0.52573111 -0.85065081]]\n"
     ]
    }
   ],
   "source": [
    "# importing numpy library\n",
    "import numpy as np\n",
    "\n",
    "# create numpy 2d-array\n",
    "m = np.array([[1, 2],\n",
    "\t\t\t[2, 3]])\n",
    "\n",
    "print(\"Printing the Original square array:\\n\",m)\n",
    "print()\n",
    "print('***************************************')\n",
    "print()\n",
    "# finding eigenvalues and eigenvectors\n",
    "w, v = np.linalg.eig(m)\n",
    "\n",
    "# printing eigen values\n",
    "print(\"Printing the Eigen values of the given square array:\\n\",w)\n",
    "print()\n",
    "# printing eigen vectors\n",
    "print(\"Printing Right Eigen Vectors of the given square array:\\n\",v)\n",
    "\n"
   ]
  },
  {
   "cell_type": "code",
   "execution_count": 2,
   "metadata": {
    "colab": {
     "base_uri": "https://localhost:8080/"
    },
    "executionInfo": {
     "elapsed": 13,
     "status": "ok",
     "timestamp": 1683043248417,
     "user": {
      "displayName": "Sneha Kadam",
      "userId": "00740706004237501599"
     },
     "user_tz": -330
    },
    "id": "DSOceAsrMIPa",
    "outputId": "f7024361-d15d-4eaf-915b-e06ad3ae086c"
   },
   "outputs": [
    {
     "name": "stdout",
     "output_type": "stream",
     "text": [
      "Printing the Original square array:\n",
      " [[1 2 3]\n",
      " [2 3 4]\n",
      " [4 5 6]]\n",
      "\n",
      "***************************************\n",
      "\n",
      "Printing the Eigen values of the given square array:\n",
      " [ 1.08309519e+01 -8.30951895e-01  1.01486082e-16]\n",
      "\n",
      "Printing Right eigenvectors of the given square array:\n",
      " [[ 0.34416959  0.72770285  0.40824829]\n",
      " [ 0.49532111  0.27580256 -0.81649658]\n",
      " [ 0.79762415 -0.62799801  0.40824829]]\n"
     ]
    }
   ],
   "source": [
    "# importing numpy library\n",
    "import numpy as np\n",
    "\n",
    "# create numpy 2d-array\n",
    "m = np.array([[1, 2, 3],\n",
    "\t\t\t[2, 3, 4],\n",
    "\t\t\t[4, 5, 6]])\n",
    "\n",
    "print(\"Printing the Original square array:\\n\",m)\n",
    "print()\n",
    "print('***************************************')\n",
    "print()\n",
    "\n",
    "# finding eigenvalues and eigenvectors\n",
    "w, v = np.linalg.eig(m)\n",
    "\n",
    "# printing eigen values\n",
    "print(\"Printing the Eigen values of the given square array:\\n\",w)\n",
    "print()\n",
    "# printing eigen vectors\n",
    "print(\"Printing Right eigenvectors of the given square array:\\n\",v)"
   ]
  },
  {
   "cell_type": "code",
   "execution_count": 3,
   "metadata": {
    "executionInfo": {
     "elapsed": 6173,
     "status": "ok",
     "timestamp": 1683043254581,
     "user": {
      "displayName": "Sneha Kadam",
      "userId": "00740706004237501599"
     },
     "user_tz": -330
    },
    "id": "pzbg3HxCMNSq"
   },
   "outputs": [],
   "source": [
    "import tensorflow as tf"
   ]
  },
  {
   "cell_type": "code",
   "execution_count": 4,
   "metadata": {
    "colab": {
     "base_uri": "https://localhost:8080/"
    },
    "executionInfo": {
     "elapsed": 970,
     "status": "ok",
     "timestamp": 1683043255547,
     "user": {
      "displayName": "Sneha Kadam",
      "userId": "00740706004237501599"
     },
     "user_tz": -330
    },
    "id": "TRop9snUMPhH",
    "outputId": "f14e3fb4-c282-43a7-a7d1-01e746068532"
   },
   "outputs": [
    {
     "name": "stdout",
     "output_type": "stream",
     "text": [
      "Matrix A: \n",
      "[[4.107431  9.800611 ]\n",
      " [3.1747313 3.01891  ]]\n",
      "\n",
      "\n"
     ]
    }
   ],
   "source": [
    "# Let's see how we can compute the eigen vectors and values from a matrix\n",
    "\n",
    "e_matrix_A = tf.random.uniform([2, 2], minval=3, maxval=10, dtype=tf.float32, name=\"matrixA\")\n",
    "\n",
    "print(\"Matrix A: \\n{}\\n\\n\".format(e_matrix_A))"
   ]
  },
  {
   "cell_type": "code",
   "execution_count": 7,
   "metadata": {
    "colab": {
     "base_uri": "https://localhost:8080/"
    },
    "executionInfo": {
     "elapsed": 7,
     "status": "ok",
     "timestamp": 1683043338998,
     "user": {
      "displayName": "Sneha Kadam",
      "userId": "00740706004237501599"
     },
     "user_tz": -330
    },
    "id": "cihydhoCMRt0",
    "outputId": "9e6771f9-889e-423d-ca53-9d88986f5f66"
   },
   "outputs": [
    {
     "name": "stdout",
     "output_type": "stream",
     "text": [
      "Eigen Vectors: \n",
      "[[-0.6446045   0.76451623]\n",
      " [ 0.76451623  0.6446045 ]] \n",
      "\n",
      "Eigen Values: \n",
      "[0.34212434 6.7842164 ]\n",
      "\n"
     ]
    }
   ],
   "source": [
    "# Calculating the eigen values and vectors using tf.linalg.eigh, if you only want the values you can use eigvalsh\n",
    "\n",
    "eigen_values_A, eigen_vectors_A = tf.linalg.eigh(e_matrix_A)\n",
    "\n",
    "print(\"Eigen Vectors: \\n{} \\n\\nEigen Values: \\n{}\\n\".format(eigen_vectors_A, eigen_values_A))"
   ]
  },
  {
   "cell_type": "code",
   "execution_count": null,
   "metadata": {
    "id": "hPulDQAkMUMX"
   },
   "outputs": [],
   "source": [
    "# Let's see how we can compute the eigen vectors and values from a matrix\n",
    "\n",
    "e_matrix_A = tf.random.uniform([3, 3], minval=3, maxval=10, dtype=tf.float32, name=\"matrixA\")\n",
    "\n",
    "print(\"Matrix A: \\n{}\\n\\n\".format(e_matrix_A))"
   ]
  },
  {
   "cell_type": "code",
   "execution_count": 9,
   "metadata": {
    "colab": {
     "base_uri": "https://localhost:8080/"
    },
    "executionInfo": {
     "elapsed": 494,
     "status": "ok",
     "timestamp": 1683043344873,
     "user": {
      "displayName": "Sneha Kadam",
      "userId": "00740706004237501599"
     },
     "user_tz": -330
    },
    "id": "wHWf6S7gMW6j",
    "outputId": "01f487f4-a489-4020-ec1d-09cac3c440a0"
   },
   "outputs": [
    {
     "name": "stdout",
     "output_type": "stream",
     "text": [
      "Eigen Vectors: \n",
      "[[-4.2997709e-01 -7.1157193e-01  5.5568457e-01]\n",
      " [ 7.9064959e-01  3.7567643e-04  6.1226922e-01]\n",
      " [-4.3588227e-01  7.0261347e-01  5.6244242e-01]] \n",
      "\n",
      "Eigen Values: \n",
      "[-4.846877  -1.3086398 18.276552 ]\n",
      "\n"
     ]
    }
   ],
   "source": [
    "# Calculating the eigen values and vectors using tf.linalg.eigh, if you only want the values you can use eigvalsh\n",
    "\n",
    "eigen_values_A, eigen_vectors_A = tf.linalg.eigh(e_matrix_A)\n",
    "\n",
    "print(\"Eigen Vectors: \\n{} \\n\\nEigen Values: \\n{}\\n\".format(eigen_vectors_A, eigen_values_A))"
   ]
  }
 ],
 "metadata": {
  "colab": {
   "authorship_tag": "ABX9TyMJdbCjPfkoN2RyyRodDF2N",
   "provenance": []
  },
  "kernelspec": {
   "display_name": "Python 3 (ipykernel)",
   "language": "python",
   "name": "python3"
  },
  "language_info": {
   "codemirror_mode": {
    "name": "ipython",
    "version": 3
   },
   "file_extension": ".py",
   "mimetype": "text/x-python",
   "name": "python",
   "nbconvert_exporter": "python",
   "pygments_lexer": "ipython3",
   "version": "3.11.4"
  }
 },
 "nbformat": 4,
 "nbformat_minor": 1
}
