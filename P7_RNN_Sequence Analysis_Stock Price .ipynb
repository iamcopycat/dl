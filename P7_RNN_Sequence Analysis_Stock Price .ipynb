{
 "cells": [
  {
   "cell_type": "markdown",
   "metadata": {
    "id": "CS7Md8LFN-Zk"
   },
   "source": [
    "# **Text classification with an RNN**"
   ]
  },
  {
   "cell_type": "code",
   "execution_count": null,
   "metadata": {
    "id": "4jFTY6gEN9Qx"
   },
   "outputs": [],
   "source": [
    "import numpy as np\n",
    "\n",
    "import tensorflow_datasets as tfds\n",
    "import tensorflow as tf\n",
    "\n",
    "tfds.disable_progress_bar()"
   ]
  },
  {
   "cell_type": "code",
   "execution_count": null,
   "metadata": {
    "id": "BHYIJQmuOloX"
   },
   "outputs": [],
   "source": [
    "import matplotlib.pyplot as plt\n",
    "\n",
    "def plot_graphs(history, metric):\n",
    "  plt.plot(history.history[metric])\n",
    "  plt.plot(history.history['val_'+metric], '')\n",
    "  plt.xlabel(\"Epochs\")\n",
    "  plt.ylabel(metric)\n",
    "  plt.legend([metric, 'val_'+metric])"
   ]
  },
  {
   "cell_type": "code",
   "execution_count": null,
   "metadata": {
    "colab": {
     "base_uri": "https://localhost:8080/"
    },
    "executionInfo": {
     "elapsed": 50805,
     "status": "ok",
     "timestamp": 1681981563032,
     "user": {
      "displayName": "Sneha Kadam",
      "userId": "00740706004237501599"
     },
     "user_tz": -330
    },
    "id": "YtdUgqhTPjrh",
    "outputId": "75e20746-6b9a-4b27-840f-71a9ce0ead0e"
   },
   "outputs": [
    {
     "name": "stdout",
     "output_type": "stream",
     "text": [
      "Downloading and preparing dataset Unknown size (download: Unknown size, generated: Unknown size, total: Unknown size) to /root/tensorflow_datasets/imdb_reviews/plain_text/1.0.0...\n",
      "Dataset imdb_reviews downloaded and prepared to /root/tensorflow_datasets/imdb_reviews/plain_text/1.0.0. Subsequent calls will reuse this data.\n"
     ]
    },
    {
     "data": {
      "text/plain": [
       "(TensorSpec(shape=(), dtype=tf.string, name=None),\n",
       " TensorSpec(shape=(), dtype=tf.int64, name=None))"
      ]
     },
     "execution_count": 3,
     "metadata": {},
     "output_type": "execute_result"
    }
   ],
   "source": [
    "dataset, info = tfds.load('imdb_reviews', with_info=True, as_supervised=True)\n",
    "train_dataset, test_dataset = dataset['train'], dataset['test']\n",
    "train_dataset.element_spec"
   ]
  },
  {
   "cell_type": "code",
   "execution_count": null,
   "metadata": {
    "colab": {
     "base_uri": "https://localhost:8080/"
    },
    "executionInfo": {
     "elapsed": 38,
     "status": "ok",
     "timestamp": 1681981563035,
     "user": {
      "displayName": "Sneha Kadam",
      "userId": "00740706004237501599"
     },
     "user_tz": -330
    },
    "id": "mUku4jrlQLWS",
    "outputId": "fb9d53a1-f52d-44e6-f34e-b92489b4eba0"
   },
   "outputs": [
    {
     "name": "stdout",
     "output_type": "stream",
     "text": [
      "text:  b\"This was an absolutely terrible movie. Don't be lured in by Christopher Walken or Michael Ironside. Both are great actors, but this must simply be their worst role in history. Even their great acting could not redeem this movie's ridiculous storyline. This movie is an early nineties US propaganda piece. The most pathetic scenes were those when the Columbian rebels were making their cases for revolutions. Maria Conchita Alonso appeared phony, and her pseudo-love affair with Walken was nothing but a pathetic emotional plug in a movie that was devoid of any real meaning. I am disappointed that there are movies like this, ruining actor's like Christopher Walken's good name. I could barely sit through it.\"\n",
      "label:  0\n",
      "text:  b'I have been known to fall asleep during films, but this is usually due to a combination of things including, really tired, being warm and comfortable on the sette and having just eaten a lot. However on this occasion I fell asleep because the film was rubbish. The plot development was constant. Constantly slow and boring. Things seemed to happen, but with no explanation of what was causing them or why. I admit, I may have missed part of the film, but i watched the majority of it and everything just seemed to happen of its own accord without any real concern for anything else. I cant recommend this film at all.'\n",
      "label:  0\n",
      "text:  b'Mann photographs the Alberta Rocky Mountains in a superb fashion, and Jimmy Stewart and Walter Brennan give enjoyable performances as they always seem to do. <br /><br />But come on Hollywood - a Mountie telling the people of Dawson City, Yukon to elect themselves a marshal (yes a marshal!) and to enforce the law themselves, then gunfighters battling it out on the streets for control of the town? <br /><br />Nothing even remotely resembling that happened on the Canadian side of the border during the Klondike gold rush. Mr. Mann and company appear to have mistaken Dawson City for Deadwood, the Canadian North for the American Wild West.<br /><br />Canadian viewers be prepared for a Reefer Madness type of enjoyable howl with this ludicrous plot, or, to shake your head in disgust.'\n",
      "label:  0\n",
      "text:  b'This is the kind of film for a snowy Sunday afternoon when the rest of the world can go ahead with its own business as you descend into a big arm-chair and mellow for a couple of hours. Wonderful performances from Cher and Nicolas Cage (as always) gently row the plot along. There are no rapids to cross, no dangerous waters, just a warm and witty paddle through New York life at its best. A family film in every sense and one that deserves the praise it received.'\n",
      "label:  1\n",
      "text:  b'As others have mentioned, all the women that go nude in this film are mostly absolutely gorgeous. The plot very ably shows the hypocrisy of the female libido. When men are around they want to be pursued, but when no \"men\" are around, they become the pursuers of a 14 year old boy. And the boy becomes a man really fast (we should all be so lucky at this age!). He then gets up the courage to pursue his true love.'\n",
      "label:  1\n"
     ]
    }
   ],
   "source": [
    "for example, label in train_dataset.take(5):\n",
    "  print('text: ', example.numpy())\n",
    "  print('label: ', label.numpy())"
   ]
  },
  {
   "cell_type": "code",
   "execution_count": null,
   "metadata": {
    "id": "wM1abWTDQwmE"
   },
   "outputs": [],
   "source": [
    "BUFFER_SIZE = 10000\n",
    "BATCH_SIZE = 64"
   ]
  },
  {
   "cell_type": "code",
   "execution_count": null,
   "metadata": {
    "id": "3ITyKgCGQ_Qp"
   },
   "outputs": [],
   "source": [
    "train_dataset = train_dataset.shuffle(BUFFER_SIZE).batch(BATCH_SIZE).prefetch(tf.data.AUTOTUNE)\n",
    "test_dataset = test_dataset.batch(BATCH_SIZE).prefetch(tf.data.AUTOTUNE)"
   ]
  },
  {
   "cell_type": "code",
   "execution_count": null,
   "metadata": {
    "colab": {
     "base_uri": "https://localhost:8080/"
    },
    "executionInfo": {
     "elapsed": 727,
     "status": "ok",
     "timestamp": 1681981563741,
     "user": {
      "displayName": "Sneha Kadam",
      "userId": "00740706004237501599"
     },
     "user_tz": -330
    },
    "id": "_HmJKHQdQ_Wr",
    "outputId": "d2700ea7-3003-4a1a-a866-7d555ad8e8d5"
   },
   "outputs": [
    {
     "name": "stdout",
     "output_type": "stream",
     "text": [
      "texts:  [b'Julian Noble (Pierce Brosnan) is a hit-man. Or a \"facilitator of fatalities\", as he prefers to be called. He is also a drunk, a womaniser, and in the middle of a mid-life crisis. On a job in Mexico City, he bumps into Danny White (Greg Kinnear), an unconfident businessman who thinks he\\'s just nailed a recent pitch, but is unsure. They meet in the hotel bar late one night, after they\\'ve both had a few too many margaritas.<br /><br />Sounds like the set-up for a by-the-numbers comedy thriller, doesn\\'t it? But it isn\\'t. Instead, The Matador is a funny and sometimes touching character study. It avoids every twist that the above summary would suggest, sometimes even setting them up just to gleefully tear them down. It is a film that respects it characters enough to just let them get on with it, without feeling the need to shove them into needless plot contrivances.<br /><br />Brosnan\\'s hit-man will inevitably be compared to his Bond, but this is unfair to both performances. Bond is a half-formed idea, a product of all that has gone before; while Julian is a fully-formed character with his own motivations and flaws. He has existed in his own shadowy, seedy world for so long that he has forgotten how to talk to another human being.<br /><br />When he meets Danny in the hotel bar, he sees his opposite: a normal guy with a normal job and normal problems. He envies Danny; the hit-man has become fed up with his life, sees himself edging ever closer to his inevitable \"burn out\", as he puts it. But when Danny opens up about the death of his only son, Julian tries to change the subject with a dirty joke. He is a man who has, in his own words, been \"running from any emotion.\" Kinnear holds his own opposite Brosnan\\'s performance, and injects Danny White with his effortless everyman charm. He is the perfect foil to Julian; while the latter is drunken bravado and hedonism, Danny is down to earth, with just a hint of eccentricity. But he too goes deeper than his established persona, showing us how far the everyman will go when faced with financial and familial ruin.<br /><br />There is real chemistry between Brosnan and Kinnear. It is most visible in the film\\'s three key scenes: the hotel bar; a bullfight, during which Julian tells Danny what he does for a living, and takes him through a dress rehearsal of an assassination; and a scene in which Julian turns up at Danny\\'s house six months later. This scene also introduces us properly to Danny\\'s wife, Bean (yes, Bean). In another example of how much The Matador respects its characters, Bean (Hope Davis), instead of panicking at the presence of a hired killer in her house, merely asks with forced calm, \"Did you bring your gun?\" The script isn\\'t quite as good as could have been after maybe another rewrite. One or two lines seem a little forced, and a couple of the jokes need a little more work. But in the scenes where Julian and Danny (and later Bean) just talk, the writing is superb. The film feels no need to put the characters in any outlandish situations (other than meeting a hit-man, and said hit-man turning up on your doorstep). It just lets them talk, gently nudging them toward necessary plot points.<br /><br />There is action, but only when it reflects on the characters. One notable instance is when Julian botches a job in Budapest because he keeps seeing himself through his rifles scope. The rest of the film is about the characters, how they interact, how they each affect one another. And, ultimately, it is about friendship, even in the most unlikely of places. At one point Julian tells Danny that he is his only friend. And he really means it.'\n",
      " b'When it came out, this was pretty much state of the art musical film entertainment. To this day it\\'s more entertaining than most, in great part because it has James Cagney in the lead role as a musical prologue producer under a succession of deadlines and sheltered from all storms by his trusty \"girl Friday\" played by Joan Blondell. Also the musical numbers towards the end which were put together by Busby Berkeley are pretty much a knock-out as far as that type of thing goes.<br /><br />But this is a pretty strange movie. I mean in one of those numbers, you\\'ve got Billy Barty running around pretending to be a lovable toddler, doing all kinds of weird stuff. Ruby Keeler seems to have a sickening smile plastered on her face at all times, but at least she\\'s not required to act like in some of her later unfortunate films. You\\'d never guess that Dick Powell was any kind of tough guy from seeing him in this movie; apparently all the tough guy energy was allocated to the star Cagney. As for Cagney, his high speed rants about musical shows and so forth are endearing and annoying at the same time. After a while it gets a bit too much. You expect him to walk out and say, \"Hey! I\\'ve got a great idea for a prologue! The women are cigarettes, and they come out of a pack of smokes! Oh no, we did that one last month!\" It\\'s funny but it gets a bit repetitive. In the moments where he has to get tough with the bad girl, Ruth Donnelly, some of the established Cagney gangster character comes out. In fact frequent B gangster director William Keighley is credited here with dialogue coaching, and it seems at times that Cagney and Blondell are invoking something very \"street\" even though the characters aren\\'t criminal.<br /><br />The musical numbers... what can you say? They stand alone as entertainment, the way that Berkeley uses the human body and geometry is really startling. But none of them really mean anything. It means \"Honeymoon Hotel\", nothing really more or less. And the whole pretense of the integration falls apart immediately, since the characters in the show are doing things that couldn\\'t possibly be appreciated by a theater audience like the movie portrays. For example at one point they show the fine print on a newspaper, things like that. The whole thing could only exist on film, so the idea that the prologues are actually live shows is ridiculous. I can only suppose that audiences of the time were somewhat less critical about things like this than they would be ten years later or so, because this is a very polished production.<br /><br />It\\'s great to see Cagney himself show off his superb dancing skills, and he can actually share the stage with a dancer like Keeler. Cagney and Blondell have excellent chemistry and their scenes go off really well. The music I would say is only mediocre, but mostly pleasing if repetitive. Bacon\\'s direction in general is very suitable but never interesting. The film\\'s entertainment value is unquestionable and it has also picked up some nostalgic value along the way. It\\'s a cut above most \"let\\'s put on a show\" films of the 30s.'\n",
      " b\"There are so many words I want to use to describe this movie, but can't really do that can I? This movie is a movie to watch if you just want to sit, laugh, cry and then pee. I'm serious. Don't watch this movie if you're easily offended by profanity, sex, nudity, homosexuality...and everything else associated with nature. Being a woman, and that might not even be a factor, I can watch this movie over and over again. Trey Parker and Matt Stone are absolutely brilliant. Along with all their other debuts, I think Baseketball is the prize winner. I'm laughing now just thinking about some of the stupid things they do in the movie. Watch the movie!! That's all I'm going to say. It's sort of hard for me to leave this comment because I'm one of those people, like Ozzy Osbourne, who has a curse word in almost every line that blurts out of their mouth when they speak. So I'm keeping it professional. Best movie. Heck yeah!!\"]\n",
      "\n",
      "labels:  [1 1 1]\n"
     ]
    }
   ],
   "source": [
    "for example, label in train_dataset.take(1):\n",
    "  print('texts: ', example.numpy()[:3])\n",
    "  print()\n",
    "  print('labels: ', label.numpy()[:3])"
   ]
  },
  {
   "cell_type": "code",
   "execution_count": null,
   "metadata": {
    "id": "GoFl4QPxSPup"
   },
   "outputs": [],
   "source": [
    "VOCAB_SIZE = 1000\n",
    "encoder = tf.keras.layers.TextVectorization(max_tokens=VOCAB_SIZE)\n",
    "encoder.adapt(train_dataset.map(lambda text, label: text))"
   ]
  },
  {
   "cell_type": "code",
   "execution_count": null,
   "metadata": {
    "colab": {
     "base_uri": "https://localhost:8080/"
    },
    "executionInfo": {
     "elapsed": 55,
     "status": "ok",
     "timestamp": 1681981567817,
     "user": {
      "displayName": "Sneha Kadam",
      "userId": "00740706004237501599"
     },
     "user_tz": -330
    },
    "id": "phWI5reJS3bt",
    "outputId": "a8aba0f9-03fd-4b81-94b1-8cefb7f5544f"
   },
   "outputs": [
    {
     "data": {
      "text/plain": [
       "array(['', '[UNK]', 'the', 'and', 'a', 'of', 'to', 'is', 'in', 'it', 'i',\n",
       "       'this', 'that', 'br', 'was', 'as', 'for', 'with', 'movie', 'but'],\n",
       "      dtype='<U14')"
      ]
     },
     "execution_count": 9,
     "metadata": {},
     "output_type": "execute_result"
    }
   ],
   "source": [
    "vocab = np.array(encoder.get_vocabulary())\n",
    "vocab[:20]"
   ]
  },
  {
   "cell_type": "code",
   "execution_count": null,
   "metadata": {
    "colab": {
     "base_uri": "https://localhost:8080/"
    },
    "executionInfo": {
     "elapsed": 45,
     "status": "ok",
     "timestamp": 1681981567821,
     "user": {
      "displayName": "Sneha Kadam",
      "userId": "00740706004237501599"
     },
     "user_tz": -330
    },
    "id": "Jy2auZN6TAba",
    "outputId": "500d5451-df0f-4998-8223-e1e1403db8fb"
   },
   "outputs": [
    {
     "data": {
      "text/plain": [
       "array([[  1,   1,   1, ...,   0,   0,   0],\n",
       "       [ 51,   9, 366, ...,   0,   0,   0],\n",
       "       [ 48,  24,  38, ...,   0,   0,   0]])"
      ]
     },
     "execution_count": 10,
     "metadata": {},
     "output_type": "execute_result"
    }
   ],
   "source": [
    "encoded_example = encoder(example)[:3].numpy()\n",
    "encoded_example"
   ]
  },
  {
   "cell_type": "code",
   "execution_count": null,
   "metadata": {
    "colab": {
     "base_uri": "https://localhost:8080/"
    },
    "executionInfo": {
     "elapsed": 39,
     "status": "ok",
     "timestamp": 1681981567824,
     "user": {
      "displayName": "Sneha Kadam",
      "userId": "00740706004237501599"
     },
     "user_tz": -330
    },
    "id": "zHzMIZalTMlH",
    "outputId": "4b3e055f-bcce-4b9f-e83b-b89041fe4751"
   },
   "outputs": [
    {
     "name": "stdout",
     "output_type": "stream",
     "text": [
      "Original:  b'Julian Noble (Pierce Brosnan) is a hit-man. Or a \"facilitator of fatalities\", as he prefers to be called. He is also a drunk, a womaniser, and in the middle of a mid-life crisis. On a job in Mexico City, he bumps into Danny White (Greg Kinnear), an unconfident businessman who thinks he\\'s just nailed a recent pitch, but is unsure. They meet in the hotel bar late one night, after they\\'ve both had a few too many margaritas.<br /><br />Sounds like the set-up for a by-the-numbers comedy thriller, doesn\\'t it? But it isn\\'t. Instead, The Matador is a funny and sometimes touching character study. It avoids every twist that the above summary would suggest, sometimes even setting them up just to gleefully tear them down. It is a film that respects it characters enough to just let them get on with it, without feeling the need to shove them into needless plot contrivances.<br /><br />Brosnan\\'s hit-man will inevitably be compared to his Bond, but this is unfair to both performances. Bond is a half-formed idea, a product of all that has gone before; while Julian is a fully-formed character with his own motivations and flaws. He has existed in his own shadowy, seedy world for so long that he has forgotten how to talk to another human being.<br /><br />When he meets Danny in the hotel bar, he sees his opposite: a normal guy with a normal job and normal problems. He envies Danny; the hit-man has become fed up with his life, sees himself edging ever closer to his inevitable \"burn out\", as he puts it. But when Danny opens up about the death of his only son, Julian tries to change the subject with a dirty joke. He is a man who has, in his own words, been \"running from any emotion.\" Kinnear holds his own opposite Brosnan\\'s performance, and injects Danny White with his effortless everyman charm. He is the perfect foil to Julian; while the latter is drunken bravado and hedonism, Danny is down to earth, with just a hint of eccentricity. But he too goes deeper than his established persona, showing us how far the everyman will go when faced with financial and familial ruin.<br /><br />There is real chemistry between Brosnan and Kinnear. It is most visible in the film\\'s three key scenes: the hotel bar; a bullfight, during which Julian tells Danny what he does for a living, and takes him through a dress rehearsal of an assassination; and a scene in which Julian turns up at Danny\\'s house six months later. This scene also introduces us properly to Danny\\'s wife, Bean (yes, Bean). In another example of how much The Matador respects its characters, Bean (Hope Davis), instead of panicking at the presence of a hired killer in her house, merely asks with forced calm, \"Did you bring your gun?\" The script isn\\'t quite as good as could have been after maybe another rewrite. One or two lines seem a little forced, and a couple of the jokes need a little more work. But in the scenes where Julian and Danny (and later Bean) just talk, the writing is superb. The film feels no need to put the characters in any outlandish situations (other than meeting a hit-man, and said hit-man turning up on your doorstep). It just lets them talk, gently nudging them toward necessary plot points.<br /><br />There is action, but only when it reflects on the characters. One notable instance is when Julian botches a job in Budapest because he keeps seeing himself through his rifles scope. The rest of the film is about the characters, how they interact, how they each affect one another. And, ultimately, it is about friendship, even in the most unlikely of places. At one point Julian tells Danny that he is his only friend. And he really means it.'\n",
      "Round-trip:  [UNK] [UNK] [UNK] [UNK] is a [UNK] or a [UNK] of [UNK] as he [UNK] to be called he is also a [UNK] a [UNK] and in the middle of a [UNK] [UNK] on a job in [UNK] city he [UNK] into [UNK] white [UNK] [UNK] an [UNK] [UNK] who [UNK] hes just [UNK] a [UNK] [UNK] but is [UNK] they meet in the [UNK] [UNK] late one night after [UNK] both had a few too many [UNK] br sounds like the [UNK] for a [UNK] comedy thriller doesnt it but it isnt instead the [UNK] is a funny and sometimes [UNK] character [UNK] it [UNK] every twist that the above [UNK] would [UNK] sometimes even setting them up just to [UNK] [UNK] them down it is a film that [UNK] it characters enough to just let them get on with it without feeling the need to [UNK] them into [UNK] plot [UNK] br [UNK] [UNK] will [UNK] be [UNK] to his [UNK] but this is [UNK] to both performances [UNK] is a [UNK] idea a [UNK] of all that has gone before while [UNK] is a [UNK] character with his own [UNK] and [UNK] he has [UNK] in his own [UNK] [UNK] world for so long that he has [UNK] how to talk to another human [UNK] br when he meets [UNK] in the [UNK] [UNK] he [UNK] his [UNK] a [UNK] guy with a [UNK] job and [UNK] problems he [UNK] [UNK] the [UNK] has become [UNK] up with his life [UNK] himself [UNK] ever [UNK] to his [UNK] [UNK] out as he [UNK] it but when [UNK] [UNK] up about the death of his only son [UNK] tries to change the subject with a [UNK] joke he is a man who has in his own words been running from any [UNK] [UNK] [UNK] his own [UNK] [UNK] performance and [UNK] [UNK] white with his [UNK] [UNK] [UNK] he is the perfect [UNK] to [UNK] while the [UNK] is [UNK] [UNK] and [UNK] [UNK] is down to earth with just a [UNK] of [UNK] but he too goes [UNK] than his [UNK] [UNK] showing us how far the [UNK] will go when [UNK] with [UNK] and [UNK] [UNK] br there is real [UNK] between [UNK] and [UNK] it is most [UNK] in the films three [UNK] scenes the [UNK] [UNK] a [UNK] during which [UNK] tells [UNK] what he does for a living and takes him through a [UNK] [UNK] of an [UNK] and a scene in which [UNK] turns up at [UNK] house [UNK] [UNK] later this scene also [UNK] us [UNK] to [UNK] wife [UNK] yes [UNK] in another example of how much the [UNK] [UNK] its characters [UNK] hope [UNK] instead of [UNK] at the [UNK] of a [UNK] killer in her house [UNK] [UNK] with forced [UNK] did you bring your [UNK] the script isnt quite as good as could have been after maybe another [UNK] one or two lines seem a little forced and a couple of the jokes need a little more work but in the scenes where [UNK] and [UNK] and later [UNK] just talk the writing is superb the film feels no need to put the characters in any [UNK] [UNK] other than [UNK] a [UNK] and said [UNK] [UNK] up on your [UNK] it just lets them talk [UNK] [UNK] them [UNK] [UNK] plot [UNK] br there is action but only when it [UNK] on the characters one [UNK] [UNK] is when [UNK] [UNK] a job in [UNK] because he keeps seeing himself through his [UNK] [UNK] the rest of the film is about the characters how they [UNK] how they each [UNK] one another and [UNK] it is about [UNK] even in the most [UNK] of [UNK] at one point [UNK] tells [UNK] that he is his only friend and he really means it                                                                                                                                                                                                                                                                      \n",
      "\n",
      "Original:  b'When it came out, this was pretty much state of the art musical film entertainment. To this day it\\'s more entertaining than most, in great part because it has James Cagney in the lead role as a musical prologue producer under a succession of deadlines and sheltered from all storms by his trusty \"girl Friday\" played by Joan Blondell. Also the musical numbers towards the end which were put together by Busby Berkeley are pretty much a knock-out as far as that type of thing goes.<br /><br />But this is a pretty strange movie. I mean in one of those numbers, you\\'ve got Billy Barty running around pretending to be a lovable toddler, doing all kinds of weird stuff. Ruby Keeler seems to have a sickening smile plastered on her face at all times, but at least she\\'s not required to act like in some of her later unfortunate films. You\\'d never guess that Dick Powell was any kind of tough guy from seeing him in this movie; apparently all the tough guy energy was allocated to the star Cagney. As for Cagney, his high speed rants about musical shows and so forth are endearing and annoying at the same time. After a while it gets a bit too much. You expect him to walk out and say, \"Hey! I\\'ve got a great idea for a prologue! The women are cigarettes, and they come out of a pack of smokes! Oh no, we did that one last month!\" It\\'s funny but it gets a bit repetitive. In the moments where he has to get tough with the bad girl, Ruth Donnelly, some of the established Cagney gangster character comes out. In fact frequent B gangster director William Keighley is credited here with dialogue coaching, and it seems at times that Cagney and Blondell are invoking something very \"street\" even though the characters aren\\'t criminal.<br /><br />The musical numbers... what can you say? They stand alone as entertainment, the way that Berkeley uses the human body and geometry is really startling. But none of them really mean anything. It means \"Honeymoon Hotel\", nothing really more or less. And the whole pretense of the integration falls apart immediately, since the characters in the show are doing things that couldn\\'t possibly be appreciated by a theater audience like the movie portrays. For example at one point they show the fine print on a newspaper, things like that. The whole thing could only exist on film, so the idea that the prologues are actually live shows is ridiculous. I can only suppose that audiences of the time were somewhat less critical about things like this than they would be ten years later or so, because this is a very polished production.<br /><br />It\\'s great to see Cagney himself show off his superb dancing skills, and he can actually share the stage with a dancer like Keeler. Cagney and Blondell have excellent chemistry and their scenes go off really well. The music I would say is only mediocre, but mostly pleasing if repetitive. Bacon\\'s direction in general is very suitable but never interesting. The film\\'s entertainment value is unquestionable and it has also picked up some nostalgic value along the way. It\\'s a cut above most \"let\\'s put on a show\" films of the 30s.'\n",
      "Round-trip:  when it came out this was pretty much [UNK] of the art musical film entertainment to this day its more entertaining than most in great part because it has james [UNK] in the lead role as a musical [UNK] [UNK] under a [UNK] of [UNK] and [UNK] from all [UNK] by his [UNK] girl [UNK] played by [UNK] [UNK] also the musical [UNK] towards the end which were put together by [UNK] [UNK] are pretty much a [UNK] as far as that type of thing [UNK] br but this is a pretty strange movie i mean in one of those [UNK] youve got [UNK] [UNK] running around [UNK] to be a [UNK] [UNK] doing all [UNK] of weird stuff [UNK] [UNK] seems to have a [UNK] [UNK] [UNK] on her face at all times but at least shes not [UNK] to act like in some of her later [UNK] films [UNK] never guess that [UNK] [UNK] was any kind of [UNK] guy from seeing him in this movie apparently all the [UNK] guy [UNK] was [UNK] to the star [UNK] as for [UNK] his high [UNK] [UNK] about musical shows and so [UNK] are [UNK] and annoying at the same time after a while it gets a bit too much you expect him to [UNK] out and say [UNK] ive got a great idea for a [UNK] the women are [UNK] and they come out of a [UNK] of [UNK] oh no we did that one last [UNK] its funny but it gets a bit [UNK] in the moments where he has to get [UNK] with the bad girl [UNK] [UNK] some of the [UNK] [UNK] [UNK] character comes out in fact [UNK] b [UNK] director [UNK] [UNK] is [UNK] here with dialogue [UNK] and it seems at times that [UNK] and [UNK] are [UNK] something very street even though the characters arent [UNK] br the musical [UNK] what can you say they stand alone as entertainment the way that [UNK] [UNK] the human body and [UNK] is really [UNK] but none of them really mean anything it means [UNK] [UNK] nothing really more or less and the whole [UNK] of the [UNK] falls apart [UNK] since the characters in the show are doing things that couldnt possibly be [UNK] by a theater audience like the movie [UNK] for example at one point they show the fine [UNK] on a [UNK] things like that the whole thing could only [UNK] on film so the idea that the [UNK] are actually live shows is ridiculous i can only [UNK] that [UNK] of the time were somewhat less [UNK] about things like this than they would be ten years later or so because this is a very [UNK] [UNK] br its great to see [UNK] himself show off his superb [UNK] [UNK] and he can actually [UNK] the stage with a [UNK] like [UNK] [UNK] and [UNK] have excellent [UNK] and their scenes go off really well the music i would say is only [UNK] but mostly [UNK] if [UNK] [UNK] direction in general is very [UNK] but never interesting the films entertainment [UNK] is [UNK] and it has also [UNK] up some [UNK] [UNK] along the way its a cut above most lets put on a show films of the [UNK]                                                                                                                                                                                                                                                                                                                                                                      \n",
      "\n",
      "Original:  b\"There are so many words I want to use to describe this movie, but can't really do that can I? This movie is a movie to watch if you just want to sit, laugh, cry and then pee. I'm serious. Don't watch this movie if you're easily offended by profanity, sex, nudity, homosexuality...and everything else associated with nature. Being a woman, and that might not even be a factor, I can watch this movie over and over again. Trey Parker and Matt Stone are absolutely brilliant. Along with all their other debuts, I think Baseketball is the prize winner. I'm laughing now just thinking about some of the stupid things they do in the movie. Watch the movie!! That's all I'm going to say. It's sort of hard for me to leave this comment because I'm one of those people, like Ozzy Osbourne, who has a curse word in almost every line that blurts out of their mouth when they speak. So I'm keeping it professional. Best movie. Heck yeah!!\"\n",
      "Round-trip:  there are so many words i want to use to [UNK] this movie but cant really do that can i this movie is a movie to watch if you just want to sit laugh [UNK] and then [UNK] im serious dont watch this movie if youre easily [UNK] by [UNK] sex [UNK] [UNK] everything else [UNK] with nature being a woman and that might not even be a [UNK] i can watch this movie over and over again [UNK] [UNK] and [UNK] [UNK] are absolutely brilliant along with all their other [UNK] i think [UNK] is the [UNK] [UNK] im [UNK] now just thinking about some of the stupid things they do in the movie watch the movie thats all im going to say its sort of hard for me to leave this comment because im one of those people like [UNK] [UNK] who has a [UNK] word in almost every line that [UNK] out of their [UNK] when they [UNK] so im [UNK] it [UNK] best movie [UNK] [UNK]                                                                                                                                                                                                                                                                                                                                                                                                                                                                                                                                                                                                                                                                                                                                                                  \n",
      "\n"
     ]
    }
   ],
   "source": [
    "for n in range(3):\n",
    "  print(\"Original: \", example[n].numpy())\n",
    "  print(\"Round-trip: \", \" \".join(vocab[encoded_example[n]]))\n",
    "  print()"
   ]
  },
  {
   "cell_type": "markdown",
   "metadata": {
    "id": "8_4FzCJWTvNH"
   },
   "source": [
    "# **create the model**"
   ]
  },
  {
   "cell_type": "code",
   "execution_count": null,
   "metadata": {
    "id": "f6Z_qtFJTMuv"
   },
   "outputs": [],
   "source": [
    "model = tf.keras.Sequential([\n",
    "    encoder,\n",
    "    tf.keras.layers.Embedding(\n",
    "        input_dim=len(encoder.get_vocabulary()),\n",
    "        output_dim=64,\n",
    "        # Use masking to handle the variable sequence lengths\n",
    "        mask_zero=True),\n",
    "    tf.keras.layers.Bidirectional(tf.keras.layers.LSTM(64)),\n",
    "    tf.keras.layers.Dense(64, activation='relu'),\n",
    "    tf.keras.layers.Dense(1)\n",
    "])"
   ]
  },
  {
   "cell_type": "code",
   "execution_count": null,
   "metadata": {
    "colab": {
     "base_uri": "https://localhost:8080/"
    },
    "executionInfo": {
     "elapsed": 15,
     "status": "ok",
     "timestamp": 1681981569966,
     "user": {
      "displayName": "Sneha Kadam",
      "userId": "00740706004237501599"
     },
     "user_tz": -330
    },
    "id": "C24fuGE1UOdx",
    "outputId": "74058401-45e8-4da3-dfdf-c950ec2b7fc2"
   },
   "outputs": [
    {
     "name": "stdout",
     "output_type": "stream",
     "text": [
      "[False, True, True, True, True]\n"
     ]
    }
   ],
   "source": [
    "print([layer.supports_masking for layer in model.layers])"
   ]
  },
  {
   "cell_type": "code",
   "execution_count": null,
   "metadata": {
    "colab": {
     "base_uri": "https://localhost:8080/"
    },
    "executionInfo": {
     "elapsed": 6614,
     "status": "ok",
     "timestamp": 1681981576569,
     "user": {
      "displayName": "Sneha Kadam",
      "userId": "00740706004237501599"
     },
     "user_tz": -330
    },
    "id": "KrPI6ndjUanP",
    "outputId": "f02b5366-f489-46ca-c26a-cf275b0e7988"
   },
   "outputs": [
    {
     "name": "stdout",
     "output_type": "stream",
     "text": [
      "1/1 [==============================] - 7s 7s/step\n",
      "[0.01760729]\n"
     ]
    }
   ],
   "source": [
    "sample_text = ('The movie was cool. The animation and the graphics '\n",
    "               'were out of this world. I would recommend this movie.')\n",
    "predictions = model.predict(np.array([sample_text]))\n",
    "print(predictions[0])"
   ]
  },
  {
   "cell_type": "code",
   "execution_count": null,
   "metadata": {
    "colab": {
     "base_uri": "https://localhost:8080/"
    },
    "executionInfo": {
     "elapsed": 27,
     "status": "ok",
     "timestamp": 1681981576571,
     "user": {
      "displayName": "Sneha Kadam",
      "userId": "00740706004237501599"
     },
     "user_tz": -330
    },
    "id": "xcAf8-oQWC5c",
    "outputId": "e65eb435-7dc1-4228-bce4-775088e80160"
   },
   "outputs": [
    {
     "name": "stdout",
     "output_type": "stream",
     "text": [
      "1/1 [==============================] - 0s 69ms/step\n",
      "[0.01760729]\n"
     ]
    }
   ],
   "source": [
    "padding = \"the \" * 2000\n",
    "predictions = model.predict(np.array([sample_text, padding]))\n",
    "print(predictions[0])"
   ]
  },
  {
   "cell_type": "code",
   "execution_count": null,
   "metadata": {
    "id": "WuVuZIyzWp5K"
   },
   "outputs": [],
   "source": [
    "model.compile(loss=tf.keras.losses.BinaryCrossentropy(from_logits=True),\n",
    "              optimizer=tf.keras.optimizers.Adam(1e-4),\n",
    "              metrics=['accuracy'])"
   ]
  },
  {
   "cell_type": "markdown",
   "metadata": {
    "id": "9F8YaSR6W0KM"
   },
   "source": [
    "# **Train the model**"
   ]
  },
  {
   "cell_type": "code",
   "execution_count": null,
   "metadata": {
    "colab": {
     "base_uri": "https://localhost:8080/"
    },
    "executionInfo": {
     "elapsed": 368540,
     "status": "ok",
     "timestamp": 1681981945100,
     "user": {
      "displayName": "Sneha Kadam",
      "userId": "00740706004237501599"
     },
     "user_tz": -330
    },
    "id": "Yj9D7KyoWnyR",
    "outputId": "590c122a-61bf-48f0-f2e5-59c636dcff8f"
   },
   "outputs": [
    {
     "name": "stdout",
     "output_type": "stream",
     "text": [
      "Epoch 1/10\n",
      "391/391 [==============================] - 50s 102ms/step - loss: 0.6380 - accuracy: 0.5784 - val_loss: 0.4625 - val_accuracy: 0.7932\n",
      "Epoch 2/10\n",
      "391/391 [==============================] - 26s 65ms/step - loss: 0.3921 - accuracy: 0.8252 - val_loss: 0.3718 - val_accuracy: 0.8458\n",
      "Epoch 3/10\n",
      "391/391 [==============================] - 24s 61ms/step - loss: 0.3375 - accuracy: 0.8519 - val_loss: 0.3378 - val_accuracy: 0.8562\n",
      "Epoch 4/10\n",
      "391/391 [==============================] - 23s 59ms/step - loss: 0.3214 - accuracy: 0.8593 - val_loss: 0.3298 - val_accuracy: 0.8557\n",
      "Epoch 5/10\n",
      "391/391 [==============================] - 24s 61ms/step - loss: 0.3139 - accuracy: 0.8643 - val_loss: 0.3301 - val_accuracy: 0.8578\n",
      "Epoch 6/10\n",
      "391/391 [==============================] - 22s 56ms/step - loss: 0.3120 - accuracy: 0.8654 - val_loss: 0.3479 - val_accuracy: 0.8339\n",
      "Epoch 7/10\n",
      "391/391 [==============================] - 23s 58ms/step - loss: 0.3099 - accuracy: 0.8664 - val_loss: 0.3403 - val_accuracy: 0.8589\n",
      "Epoch 8/10\n",
      "391/391 [==============================] - 23s 59ms/step - loss: 0.3052 - accuracy: 0.8673 - val_loss: 0.3233 - val_accuracy: 0.8578\n",
      "Epoch 9/10\n",
      "391/391 [==============================] - 23s 59ms/step - loss: 0.3011 - accuracy: 0.8688 - val_loss: 0.3260 - val_accuracy: 0.8469\n",
      "Epoch 10/10\n",
      "391/391 [==============================] - 24s 60ms/step - loss: 0.3041 - accuracy: 0.8685 - val_loss: 0.3224 - val_accuracy: 0.8583\n"
     ]
    }
   ],
   "source": [
    "history = model.fit(train_dataset, epochs=10,\n",
    "                    validation_data=test_dataset,\n",
    "                    validation_steps=30)"
   ]
  },
  {
   "cell_type": "code",
   "execution_count": null,
   "metadata": {
    "colab": {
     "base_uri": "https://localhost:8080/"
    },
    "executionInfo": {
     "elapsed": 20587,
     "status": "ok",
     "timestamp": 1681981965611,
     "user": {
      "displayName": "Sneha Kadam",
      "userId": "00740706004237501599"
     },
     "user_tz": -330
    },
    "id": "5467iuqmW6ja",
    "outputId": "337a6c0c-4e68-4826-b178-bf43deaf0870"
   },
   "outputs": [
    {
     "name": "stdout",
     "output_type": "stream",
     "text": [
      "391/391 [==============================] - 11s 28ms/step - loss: 0.3190 - accuracy: 0.8582\n",
      "Test Loss: 0.31899458169937134\n",
      "Test Accuracy: 0.8581600189208984\n"
     ]
    }
   ],
   "source": [
    "test_loss, test_acc = model.evaluate(test_dataset)\n",
    "\n",
    "print('Test Loss:', test_loss)\n",
    "print('Test Accuracy:', test_acc)"
   ]
  },
  {
   "cell_type": "code",
   "execution_count": null,
   "metadata": {
    "colab": {
     "base_uri": "https://localhost:8080/",
     "height": 608
    },
    "executionInfo": {
     "elapsed": 1481,
     "status": "ok",
     "timestamp": 1681981967044,
     "user": {
      "displayName": "Sneha Kadam",
      "userId": "00740706004237501599"
     },
     "user_tz": -330
    },
    "id": "UCowKBOdW-xh",
    "outputId": "486c2e66-fbd4-44a5-eb16-403e7521ad2a"
   },
   "outputs": [
    {
     "data": {
      "text/plain": [
       "(0.0, 0.6548959612846375)"
      ]
     },
     "execution_count": 19,
     "metadata": {},
     "output_type": "execute_result"
    },
    {
     "data": {
      "image/png": "[encoded data removed]",
      "text/plain": [
       "<Figure size 1600x800 with 2 Axes>"
      ]
     },
     "metadata": {},
     "output_type": "display_data"
    }
   ],
   "source": [
    "plt.figure(figsize=(16, 8))\n",
    "plt.subplot(1, 2, 1)\n",
    "plot_graphs(history, 'accuracy')\n",
    "plt.ylim(None, 1)\n",
    "plt.subplot(1, 2, 2)\n",
    "plot_graphs(history, 'loss')\n",
    "plt.ylim(0, None)\n"
   ]
  },
  {
   "cell_type": "code",
   "execution_count": null,
   "metadata": {
    "colab": {
     "base_uri": "https://localhost:8080/"
    },
    "executionInfo": {
     "elapsed": 2031,
     "status": "ok",
     "timestamp": 1681981968982,
     "user": {
      "displayName": "Sneha Kadam",
      "userId": "00740706004237501599"
     },
     "user_tz": -330
    },
    "id": "ab8cSO6XXgD_",
    "outputId": "2f8c1dc5-8f01-45c5-d437-842d27628521"
   },
   "outputs": [
    {
     "name": "stdout",
     "output_type": "stream",
     "text": [
      "1/1 [==============================] - 2s 2s/step\n"
     ]
    }
   ],
   "source": [
    "sample_text = ('The movie was cool. The animation and the graphics '\n",
    "               'were out of this world. I would recommend this movie.')\n",
    "predictions = model.predict(np.array([sample_text]))"
   ]
  },
  {
   "cell_type": "code",
   "execution_count": null,
   "metadata": {
    "colab": {
     "base_uri": "https://localhost:8080/"
    },
    "executionInfo": {
     "elapsed": 31,
     "status": "ok",
     "timestamp": 1681981968986,
     "user": {
      "displayName": "Sneha Kadam",
      "userId": "00740706004237501599"
     },
     "user_tz": -330
    },
    "id": "gCV0HRytYOf7",
    "outputId": "dee68d18-3575-4bda-ec65-81ee2a184c5d"
   },
   "outputs": [
    {
     "data": {
      "text/plain": [
       "array([[0.52940834]], dtype=float32)"
      ]
     },
     "execution_count": 21,
     "metadata": {},
     "output_type": "execute_result"
    }
   ],
   "source": [
    "predictions"
   ]
  },
  {
   "cell_type": "markdown",
   "metadata": {
    "id": "v0-_ww0PYUTx"
   },
   "source": [
    "# **Stack two or more LSTM layers**"
   ]
  },
  {
   "cell_type": "code",
   "execution_count": null,
   "metadata": {
    "id": "oa2XqzUFYXVP"
   },
   "outputs": [],
   "source": [
    "model = tf.keras.Sequential([\n",
    "    encoder,\n",
    "    tf.keras.layers.Embedding(len(encoder.get_vocabulary()), 64, mask_zero=True),\n",
    "    tf.keras.layers.Bidirectional(tf.keras.layers.LSTM(64,  return_sequences=True)),\n",
    "    tf.keras.layers.Bidirectional(tf.keras.layers.LSTM(32)),\n",
    "    tf.keras.layers.Dense(64, activation='relu'),\n",
    "    tf.keras.layers.Dropout(0.5),\n",
    "    tf.keras.layers.Dense(1)\n",
    "])"
   ]
  },
  {
   "cell_type": "code",
   "execution_count": null,
   "metadata": {
    "id": "4-UsqZc_ZWtD"
   },
   "outputs": [],
   "source": [
    "model.compile(loss=tf.keras.losses.BinaryCrossentropy(from_logits=True),\n",
    "              optimizer=tf.keras.optimizers.Adam(1e-4),\n",
    "              metrics=['accuracy'])"
   ]
  },
  {
   "cell_type": "code",
   "execution_count": null,
   "metadata": {
    "colab": {
     "base_uri": "https://localhost:8080/"
    },
    "executionInfo": {
     "elapsed": 792424,
     "status": "ok",
     "timestamp": 1681982764178,
     "user": {
      "displayName": "Sneha Kadam",
      "userId": "00740706004237501599"
     },
     "user_tz": -330
    },
    "id": "b1_XWjpiaEMf",
    "outputId": "6bfe4ef2-8066-44ee-88f1-cad7dd3e3002"
   },
   "outputs": [
    {
     "name": "stdout",
     "output_type": "stream",
     "text": [
      "Epoch 1/10\n",
      "391/391 [==============================] - 75s 149ms/step - loss: 0.6290 - accuracy: 0.5917 - val_loss: 0.4439 - val_accuracy: 0.7974\n",
      "Epoch 2/10\n",
      "391/391 [==============================] - 43s 110ms/step - loss: 0.3913 - accuracy: 0.8330 - val_loss: 0.3592 - val_accuracy: 0.8557\n",
      "Epoch 3/10\n",
      "391/391 [==============================] - 43s 108ms/step - loss: 0.3374 - accuracy: 0.8553 - val_loss: 0.3515 - val_accuracy: 0.8578\n",
      "Epoch 4/10\n",
      "391/391 [==============================] - 42s 106ms/step - loss: 0.3192 - accuracy: 0.8632 - val_loss: 0.3317 - val_accuracy: 0.8531\n",
      "Epoch 5/10\n",
      "391/391 [==============================] - 42s 107ms/step - loss: 0.3111 - accuracy: 0.8660 - val_loss: 0.3187 - val_accuracy: 0.8505\n",
      "Epoch 6/10\n",
      "391/391 [==============================] - 42s 106ms/step - loss: 0.3049 - accuracy: 0.8688 - val_loss: 0.3355 - val_accuracy: 0.8667\n",
      "Epoch 7/10\n",
      "391/391 [==============================] - 42s 107ms/step - loss: 0.3024 - accuracy: 0.8714 - val_loss: 0.3201 - val_accuracy: 0.8651\n",
      "Epoch 8/10\n",
      "391/391 [==============================] - 43s 109ms/step - loss: 0.2953 - accuracy: 0.8740 - val_loss: 0.3199 - val_accuracy: 0.8526\n",
      "Epoch 9/10\n",
      "391/391 [==============================] - 43s 109ms/step - loss: 0.2957 - accuracy: 0.8752 - val_loss: 0.3178 - val_accuracy: 0.8625\n",
      "Epoch 10/10\n",
      "391/391 [==============================] - 42s 108ms/step - loss: 0.2916 - accuracy: 0.8741 - val_loss: 0.3253 - val_accuracy: 0.8568\n"
     ]
    }
   ],
   "source": [
    "\n",
    "history = model.fit(train_dataset, epochs=10,\n",
    "                    validation_data=test_dataset,\n",
    "                    validation_steps=30)"
   ]
  },
  {
   "cell_type": "code",
   "execution_count": null,
   "metadata": {
    "colab": {
     "base_uri": "https://localhost:8080/"
    },
    "executionInfo": {
     "elapsed": 20460,
     "status": "ok",
     "timestamp": 1681982784619,
     "user": {
      "displayName": "Sneha Kadam",
      "userId": "00740706004237501599"
     },
     "user_tz": -330
    },
    "id": "E0u5-RRgacf-",
    "outputId": "271ee731-659b-4ab3-dcc4-9504ce201206"
   },
   "outputs": [
    {
     "name": "stdout",
     "output_type": "stream",
     "text": [
      "391/391 [==============================] - 17s 44ms/step - loss: 0.3228 - accuracy: 0.8566\n",
      "Test Loss: 0.32278767228126526\n",
      "Test Accuracy: 0.8565999865531921\n"
     ]
    }
   ],
   "source": [
    "test_loss, test_acc = model.evaluate(test_dataset)\n",
    "\n",
    "print('Test Loss:', test_loss)\n",
    "print('Test Accuracy:', test_acc)"
   ]
  },
  {
   "cell_type": "code",
   "execution_count": null,
   "metadata": {
    "colab": {
     "base_uri": "https://localhost:8080/"
    },
    "executionInfo": {
     "elapsed": 4107,
     "status": "ok",
     "timestamp": 1681982788646,
     "user": {
      "displayName": "Sneha Kadam",
      "userId": "00740706004237501599"
     },
     "user_tz": -330
    },
    "id": "juSc6t_3a1Wo",
    "outputId": "0576bafa-189c-4482-a302-85e45ce291f3"
   },
   "outputs": [
    {
     "name": "stdout",
     "output_type": "stream",
     "text": [
      "1/1 [==============================] - 4s 4s/step\n",
      "[[-1.9389673]]\n"
     ]
    }
   ],
   "source": [
    "sample_text = ('The movie was not good. The animation and the graphics '\n",
    "               'were terrible. I would not recommend this movie.')\n",
    "predictions = model.predict(np.array([sample_text]))\n",
    "print(predictions)"
   ]
  },
  {
   "cell_type": "code",
   "execution_count": null,
   "metadata": {
    "colab": {
     "base_uri": "https://localhost:8080/",
     "height": 458
    },
    "executionInfo": {
     "elapsed": 1615,
     "status": "ok",
     "timestamp": 1681982790245,
     "user": {
      "displayName": "Sneha Kadam",
      "userId": "00740706004237501599"
     },
     "user_tz": -330
    },
    "id": "-7llnL9ebgM2",
    "outputId": "3752ef7d-8346-45cc-cfbc-7530ef6e340a"
   },
   "outputs": [
    {
     "data": {
      "image/png": "[encoded data removed]",
      "text/plain": [
       "<Figure size 1600x600 with 2 Axes>"
      ]
     },
     "metadata": {},
     "output_type": "display_data"
    }
   ],
   "source": [
    "plt.figure(figsize=(16, 6))\n",
    "plt.subplot(1, 2, 1)\n",
    "plot_graphs(history, 'accuracy')\n",
    "plt.subplot(1, 2, 2)\n",
    "plot_graphs(history, 'loss')"
   ]
  }
 ],
 "metadata": {
  "accelerator": "GPU",
  "colab": {
   "authorship_tag": "ABX9TyP2YzaGF21cf4YUfZeRXfA8",
   "provenance": []
  },
  "gpuClass": "standard",
  "kernelspec": {
   "display_name": "Python 3 (ipykernel)",
   "language": "python",
   "name": "python3"
  },
  "language_info": {
   "codemirror_mode": {
    "name": "ipython",
    "version": 3
   },
   "file_extension": ".py",
   "mimetype": "text/x-python",
   "name": "python",
   "nbconvert_exporter": "python",
   "pygments_lexer": "ipython3",
   "version": "3.11.4"
  }
 },
 "nbformat": 4,
 "nbformat_minor": 1
}
