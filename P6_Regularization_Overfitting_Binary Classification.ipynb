{
 "cells": [
  {
   "cell_type": "markdown",
   "metadata": {
    "id": "vYILTo-mGFnt"
   },
   "source": [
    "# **Implementing_regularization_to_avoid_overfitting_in_binary_classification_using_tensorflow.**"
   ]
  },
  {
   "cell_type": "code",
   "execution_count": 1,
   "metadata": {
    "executionInfo": {
     "elapsed": 4777,
     "status": "ok",
     "timestamp": 1680760183453,
     "user": {
      "displayName": "Sneha Kadam",
      "userId": "00740706004237501599"
     },
     "user_tz": -330
    },
    "id": "GyTApkEHGEPO"
   },
   "outputs": [],
   "source": [
    "from matplotlib import pyplot\n",
    "from sklearn.datasets import make_moons\n",
    "from keras.models import Sequential\n",
    "from keras.layers import Dense"
   ]
  },
  {
   "cell_type": "code",
   "execution_count": 2,
   "metadata": {
    "executionInfo": {
     "elapsed": 694,
     "status": "ok",
     "timestamp": 1680760311251,
     "user": {
      "displayName": "Sneha Kadam",
      "userId": "00740706004237501599"
     },
     "user_tz": -330
    },
    "id": "ZwT3Vh6dHHOh"
   },
   "outputs": [],
   "source": [
    "X,Y=make_moons(n_samples=100,noise=0.2,random_state=1)\n",
    "n_train=30\n",
    "trainX,testX=X[:n_train,:],X[n_train:]\n",
    "trainY,testY=Y[:n_train],Y[n_train:]"
   ]
  },
  {
   "cell_type": "code",
   "execution_count": 3,
   "metadata": {
    "colab": {
     "base_uri": "https://localhost:8080/"
    },
    "executionInfo": {
     "elapsed": 441,
     "status": "ok",
     "timestamp": 1680760365824,
     "user": {
      "displayName": "Sneha Kadam",
      "userId": "00740706004237501599"
     },
     "user_tz": -330
    },
    "id": "W-541RJdHw1H",
    "outputId": "f8887f51-f2ae-49bd-aefc-719c969c8fa4"
   },
   "outputs": [
    {
     "name": "stdout",
     "output_type": "stream",
     "text": [
      "(30, 2)\n",
      "(30,)\n",
      "(70, 2)\n",
      "(70,)\n"
     ]
    }
   ],
   "source": [
    "print(trainX.shape)\n",
    "print(trainY.shape)\n",
    "print(testX.shape)\n",
    "print(testY.shape)"
   ]
  },
  {
   "cell_type": "code",
   "execution_count": 4,
   "metadata": {
    "executionInfo": {
     "elapsed": 724,
     "status": "ok",
     "timestamp": 1680760621259,
     "user": {
      "displayName": "Sneha Kadam",
      "userId": "00740706004237501599"
     },
     "user_tz": -330
    },
    "id": "HncCwAPXH-HE"
   },
   "outputs": [],
   "source": [
    "model=Sequential()\n",
    "model.add(Dense(500,input_dim=2,activation='relu'))\n",
    "model.add(Dense(1,activation='sigmoid'))\n",
    "model.compile(loss='binary_crossentropy',optimizer='adam',metrics=['accuracy'])\n"
   ]
  },
  {
   "cell_type": "code",
   "execution_count": 5,
   "metadata": {
    "colab": {
     "base_uri": "https://localhost:8080/"
    },
    "executionInfo": {
     "elapsed": 1269,
     "status": "ok",
     "timestamp": 1680760639873,
     "user": {
      "displayName": "Sneha Kadam",
      "userId": "00740706004237501599"
     },
     "user_tz": -330
    },
    "id": "2CxmfDhkI8cL",
    "outputId": "eda47f6a-c235-477b-9882-62bb905d6b0a"
   },
   "outputs": [
    {
     "name": "stdout",
     "output_type": "stream",
     "text": [
      "Model: \"sequential\"\n",
      "_________________________________________________________________\n",
      " Layer (type)                Output Shape              Param #   \n",
      "=================================================================\n",
      " dense (Dense)               (None, 500)               1500      \n",
      "                                                                 \n",
      " dense_1 (Dense)             (None, 1)                 501       \n",
      "                                                                 \n",
      "=================================================================\n",
      "Total params: 2,001\n",
      "Trainable params: 2,001\n",
      "Non-trainable params: 0\n",
      "_________________________________________________________________\n"
     ]
    }
   ],
   "source": [
    "model.summary()"
   ]
  },
  {
   "cell_type": "code",
   "execution_count": 6,
   "metadata": {
    "colab": {
     "base_uri": "https://localhost:8080/"
    },
    "executionInfo": {
     "elapsed": 7697,
     "status": "ok",
     "timestamp": 1680760715912,
     "user": {
      "displayName": "Sneha Kadam",
      "userId": "00740706004237501599"
     },
     "user_tz": -330
    },
    "id": "NXmDRzQgJA0E",
    "outputId": "6b744426-a20a-46fa-983b-ff52581efb7a"
   },
   "outputs": [
    {
     "name": "stdout",
     "output_type": "stream",
     "text": [
      "Epoch 1/100\n",
      "1/1 [==============================] - 1s 1s/step - loss: 0.6976 - accuracy: 0.5000 - val_loss: 0.6806 - val_accuracy: 0.7000\n",
      "Epoch 2/100\n",
      "1/1 [==============================] - 0s 66ms/step - loss: 0.6813 - accuracy: 0.6000 - val_loss: 0.6703 - val_accuracy: 0.7429\n",
      "Epoch 3/100\n",
      "1/1 [==============================] - 0s 51ms/step - loss: 0.6655 - accuracy: 0.8000 - val_loss: 0.6603 - val_accuracy: 0.7429\n",
      "Epoch 4/100\n",
      "1/1 [==============================] - 0s 53ms/step - loss: 0.6501 - accuracy: 0.9000 - val_loss: 0.6508 - val_accuracy: 0.7286\n",
      "Epoch 5/100\n",
      "1/1 [==============================] - 0s 64ms/step - loss: 0.6353 - accuracy: 0.9000 - val_loss: 0.6416 - val_accuracy: 0.7286\n",
      "Epoch 6/100\n",
      "1/1 [==============================] - 0s 65ms/step - loss: 0.6209 - accuracy: 0.9333 - val_loss: 0.6328 - val_accuracy: 0.7286\n",
      "Epoch 7/100\n",
      "1/1 [==============================] - 0s 53ms/step - loss: 0.6069 - accuracy: 0.9333 - val_loss: 0.6243 - val_accuracy: 0.7286\n",
      "Epoch 8/100\n",
      "1/1 [==============================] - 0s 69ms/step - loss: 0.5934 - accuracy: 0.9000 - val_loss: 0.6162 - val_accuracy: 0.7286\n",
      "Epoch 9/100\n",
      "1/1 [==============================] - 0s 70ms/step - loss: 0.5802 - accuracy: 0.9000 - val_loss: 0.6083 - val_accuracy: 0.7286\n",
      "Epoch 10/100\n",
      "1/1 [==============================] - 0s 58ms/step - loss: 0.5674 - accuracy: 0.9000 - val_loss: 0.6008 - val_accuracy: 0.7286\n",
      "Epoch 11/100\n",
      "1/1 [==============================] - 0s 67ms/step - loss: 0.5551 - accuracy: 0.9000 - val_loss: 0.5936 - val_accuracy: 0.7286\n",
      "Epoch 12/100\n",
      "1/1 [==============================] - 0s 55ms/step - loss: 0.5430 - accuracy: 0.9000 - val_loss: 0.5866 - val_accuracy: 0.7143\n",
      "Epoch 13/100\n",
      "1/1 [==============================] - 0s 52ms/step - loss: 0.5314 - accuracy: 0.9000 - val_loss: 0.5800 - val_accuracy: 0.7143\n",
      "Epoch 14/100\n",
      "1/1 [==============================] - 0s 53ms/step - loss: 0.5200 - accuracy: 0.9000 - val_loss: 0.5735 - val_accuracy: 0.7143\n",
      "Epoch 15/100\n",
      "1/1 [==============================] - 0s 69ms/step - loss: 0.5090 - accuracy: 0.9000 - val_loss: 0.5674 - val_accuracy: 0.7143\n",
      "Epoch 16/100\n",
      "1/1 [==============================] - 0s 57ms/step - loss: 0.4983 - accuracy: 0.9000 - val_loss: 0.5614 - val_accuracy: 0.7143\n",
      "Epoch 17/100\n",
      "1/1 [==============================] - 0s 67ms/step - loss: 0.4879 - accuracy: 0.9000 - val_loss: 0.5557 - val_accuracy: 0.7143\n",
      "Epoch 18/100\n",
      "1/1 [==============================] - 0s 66ms/step - loss: 0.4777 - accuracy: 0.9000 - val_loss: 0.5502 - val_accuracy: 0.7143\n",
      "Epoch 19/100\n",
      "1/1 [==============================] - 0s 62ms/step - loss: 0.4678 - accuracy: 0.9000 - val_loss: 0.5449 - val_accuracy: 0.7143\n",
      "Epoch 20/100\n",
      "1/1 [==============================] - 0s 61ms/step - loss: 0.4583 - accuracy: 0.9000 - val_loss: 0.5398 - val_accuracy: 0.7143\n",
      "Epoch 21/100\n",
      "1/1 [==============================] - 0s 66ms/step - loss: 0.4490 - accuracy: 0.9000 - val_loss: 0.5349 - val_accuracy: 0.7143\n",
      "Epoch 22/100\n",
      "1/1 [==============================] - 0s 68ms/step - loss: 0.4399 - accuracy: 0.9000 - val_loss: 0.5301 - val_accuracy: 0.7143\n",
      "Epoch 23/100\n",
      "1/1 [==============================] - 0s 58ms/step - loss: 0.4311 - accuracy: 0.9000 - val_loss: 0.5256 - val_accuracy: 0.7286\n",
      "Epoch 24/100\n",
      "1/1 [==============================] - 0s 82ms/step - loss: 0.4225 - accuracy: 0.9000 - val_loss: 0.5212 - val_accuracy: 0.7286\n",
      "Epoch 25/100\n",
      "1/1 [==============================] - 0s 55ms/step - loss: 0.4142 - accuracy: 0.9000 - val_loss: 0.5170 - val_accuracy: 0.7286\n",
      "Epoch 26/100\n",
      "1/1 [==============================] - 0s 60ms/step - loss: 0.4061 - accuracy: 0.9000 - val_loss: 0.5130 - val_accuracy: 0.7286\n",
      "Epoch 27/100\n",
      "1/1 [==============================] - 0s 57ms/step - loss: 0.3983 - accuracy: 0.9000 - val_loss: 0.5092 - val_accuracy: 0.7286\n",
      "Epoch 28/100\n",
      "1/1 [==============================] - 0s 76ms/step - loss: 0.3907 - accuracy: 0.9000 - val_loss: 0.5055 - val_accuracy: 0.7286\n",
      "Epoch 29/100\n",
      "1/1 [==============================] - 0s 69ms/step - loss: 0.3833 - accuracy: 0.9000 - val_loss: 0.5019 - val_accuracy: 0.7286\n",
      "Epoch 30/100\n",
      "1/1 [==============================] - 0s 51ms/step - loss: 0.3761 - accuracy: 0.9000 - val_loss: 0.4986 - val_accuracy: 0.7286\n",
      "Epoch 31/100\n",
      "1/1 [==============================] - 0s 72ms/step - loss: 0.3691 - accuracy: 0.9000 - val_loss: 0.4953 - val_accuracy: 0.7286\n",
      "Epoch 32/100\n",
      "1/1 [==============================] - 0s 75ms/step - loss: 0.3623 - accuracy: 0.9000 - val_loss: 0.4922 - val_accuracy: 0.7286\n",
      "Epoch 33/100\n",
      "1/1 [==============================] - 0s 71ms/step - loss: 0.3557 - accuracy: 0.9000 - val_loss: 0.4892 - val_accuracy: 0.7286\n",
      "Epoch 34/100\n",
      "1/1 [==============================] - 0s 72ms/step - loss: 0.3493 - accuracy: 0.9000 - val_loss: 0.4864 - val_accuracy: 0.7286\n",
      "Epoch 35/100\n",
      "1/1 [==============================] - 0s 73ms/step - loss: 0.3430 - accuracy: 0.9000 - val_loss: 0.4837 - val_accuracy: 0.7286\n",
      "Epoch 36/100\n",
      "1/1 [==============================] - 0s 61ms/step - loss: 0.3370 - accuracy: 0.9000 - val_loss: 0.4811 - val_accuracy: 0.7286\n",
      "Epoch 37/100\n",
      "1/1 [==============================] - 0s 40ms/step - loss: 0.3312 - accuracy: 0.9000 - val_loss: 0.4786 - val_accuracy: 0.7286\n",
      "Epoch 38/100\n",
      "1/1 [==============================] - 0s 39ms/step - loss: 0.3255 - accuracy: 0.9000 - val_loss: 0.4762 - val_accuracy: 0.7286\n",
      "Epoch 39/100\n",
      "1/1 [==============================] - 0s 47ms/step - loss: 0.3200 - accuracy: 0.9000 - val_loss: 0.4740 - val_accuracy: 0.7286\n",
      "Epoch 40/100\n",
      "1/1 [==============================] - 0s 61ms/step - loss: 0.3147 - accuracy: 0.9000 - val_loss: 0.4718 - val_accuracy: 0.7286\n",
      "Epoch 41/100\n",
      "1/1 [==============================] - 0s 70ms/step - loss: 0.3096 - accuracy: 0.9000 - val_loss: 0.4698 - val_accuracy: 0.7286\n",
      "Epoch 42/100\n",
      "1/1 [==============================] - 0s 92ms/step - loss: 0.3047 - accuracy: 0.9333 - val_loss: 0.4679 - val_accuracy: 0.7286\n",
      "Epoch 43/100\n",
      "1/1 [==============================] - 0s 74ms/step - loss: 0.2999 - accuracy: 0.9333 - val_loss: 0.4660 - val_accuracy: 0.7286\n",
      "Epoch 44/100\n",
      "1/1 [==============================] - 0s 70ms/step - loss: 0.2953 - accuracy: 0.9333 - val_loss: 0.4643 - val_accuracy: 0.7286\n",
      "Epoch 45/100\n",
      "1/1 [==============================] - 0s 79ms/step - loss: 0.2909 - accuracy: 0.9333 - val_loss: 0.4627 - val_accuracy: 0.7286\n",
      "Epoch 46/100\n",
      "1/1 [==============================] - 0s 72ms/step - loss: 0.2866 - accuracy: 0.9333 - val_loss: 0.4611 - val_accuracy: 0.7286\n",
      "Epoch 47/100\n",
      "1/1 [==============================] - 0s 93ms/step - loss: 0.2825 - accuracy: 0.9333 - val_loss: 0.4597 - val_accuracy: 0.7286\n",
      "Epoch 48/100\n",
      "1/1 [==============================] - 0s 110ms/step - loss: 0.2786 - accuracy: 0.9333 - val_loss: 0.4583 - val_accuracy: 0.7286\n",
      "Epoch 49/100\n",
      "1/1 [==============================] - 0s 144ms/step - loss: 0.2748 - accuracy: 0.9000 - val_loss: 0.4569 - val_accuracy: 0.7286\n",
      "Epoch 50/100\n",
      "1/1 [==============================] - 0s 75ms/step - loss: 0.2711 - accuracy: 0.9000 - val_loss: 0.4557 - val_accuracy: 0.7286\n",
      "Epoch 51/100\n",
      "1/1 [==============================] - 0s 67ms/step - loss: 0.2676 - accuracy: 0.9000 - val_loss: 0.4545 - val_accuracy: 0.7286\n",
      "Epoch 52/100\n",
      "1/1 [==============================] - 0s 38ms/step - loss: 0.2643 - accuracy: 0.9000 - val_loss: 0.4534 - val_accuracy: 0.7286\n",
      "Epoch 53/100\n",
      "1/1 [==============================] - 0s 56ms/step - loss: 0.2610 - accuracy: 0.9000 - val_loss: 0.4524 - val_accuracy: 0.7286\n",
      "Epoch 54/100\n",
      "1/1 [==============================] - 0s 41ms/step - loss: 0.2579 - accuracy: 0.9000 - val_loss: 0.4514 - val_accuracy: 0.7286\n",
      "Epoch 55/100\n",
      "1/1 [==============================] - 0s 39ms/step - loss: 0.2549 - accuracy: 0.9000 - val_loss: 0.4505 - val_accuracy: 0.7286\n",
      "Epoch 56/100\n",
      "1/1 [==============================] - 0s 55ms/step - loss: 0.2520 - accuracy: 0.9000 - val_loss: 0.4496 - val_accuracy: 0.7286\n",
      "Epoch 57/100\n",
      "1/1 [==============================] - 0s 37ms/step - loss: 0.2492 - accuracy: 0.9000 - val_loss: 0.4488 - val_accuracy: 0.7286\n",
      "Epoch 58/100\n",
      "1/1 [==============================] - 0s 58ms/step - loss: 0.2466 - accuracy: 0.9000 - val_loss: 0.4480 - val_accuracy: 0.7286\n",
      "Epoch 59/100\n",
      "1/1 [==============================] - 0s 55ms/step - loss: 0.2440 - accuracy: 0.9000 - val_loss: 0.4473 - val_accuracy: 0.7286\n",
      "Epoch 60/100\n",
      "1/1 [==============================] - 0s 54ms/step - loss: 0.2415 - accuracy: 0.9000 - val_loss: 0.4466 - val_accuracy: 0.7286\n",
      "Epoch 61/100\n",
      "1/1 [==============================] - 0s 53ms/step - loss: 0.2391 - accuracy: 0.9000 - val_loss: 0.4459 - val_accuracy: 0.7429\n",
      "Epoch 62/100\n",
      "1/1 [==============================] - 0s 53ms/step - loss: 0.2369 - accuracy: 0.9000 - val_loss: 0.4453 - val_accuracy: 0.7429\n",
      "Epoch 63/100\n",
      "1/1 [==============================] - 0s 56ms/step - loss: 0.2347 - accuracy: 0.9000 - val_loss: 0.4447 - val_accuracy: 0.7429\n",
      "Epoch 64/100\n",
      "1/1 [==============================] - 0s 58ms/step - loss: 0.2325 - accuracy: 0.9000 - val_loss: 0.4442 - val_accuracy: 0.7429\n",
      "Epoch 65/100\n",
      "1/1 [==============================] - 0s 42ms/step - loss: 0.2305 - accuracy: 0.9000 - val_loss: 0.4437 - val_accuracy: 0.7429\n",
      "Epoch 66/100\n",
      "1/1 [==============================] - 0s 57ms/step - loss: 0.2285 - accuracy: 0.9000 - val_loss: 0.4432 - val_accuracy: 0.7429\n",
      "Epoch 67/100\n",
      "1/1 [==============================] - 0s 54ms/step - loss: 0.2266 - accuracy: 0.9000 - val_loss: 0.4427 - val_accuracy: 0.7429\n",
      "Epoch 68/100\n",
      "1/1 [==============================] - 0s 39ms/step - loss: 0.2248 - accuracy: 0.9000 - val_loss: 0.4422 - val_accuracy: 0.7429\n",
      "Epoch 69/100\n",
      "1/1 [==============================] - 0s 63ms/step - loss: 0.2231 - accuracy: 0.9000 - val_loss: 0.4418 - val_accuracy: 0.7429\n",
      "Epoch 70/100\n",
      "1/1 [==============================] - 0s 38ms/step - loss: 0.2214 - accuracy: 0.9000 - val_loss: 0.4413 - val_accuracy: 0.7429\n",
      "Epoch 71/100\n",
      "1/1 [==============================] - 0s 56ms/step - loss: 0.2198 - accuracy: 0.9000 - val_loss: 0.4409 - val_accuracy: 0.7429\n",
      "Epoch 72/100\n",
      "1/1 [==============================] - 0s 61ms/step - loss: 0.2182 - accuracy: 0.9000 - val_loss: 0.4405 - val_accuracy: 0.7429\n",
      "Epoch 73/100\n",
      "1/1 [==============================] - 0s 59ms/step - loss: 0.2167 - accuracy: 0.9000 - val_loss: 0.4401 - val_accuracy: 0.7429\n",
      "Epoch 74/100\n",
      "1/1 [==============================] - 0s 51ms/step - loss: 0.2153 - accuracy: 0.9000 - val_loss: 0.4397 - val_accuracy: 0.7429\n",
      "Epoch 75/100\n",
      "1/1 [==============================] - 0s 60ms/step - loss: 0.2139 - accuracy: 0.9000 - val_loss: 0.4393 - val_accuracy: 0.7429\n",
      "Epoch 76/100\n",
      "1/1 [==============================] - 0s 40ms/step - loss: 0.2125 - accuracy: 0.9000 - val_loss: 0.4389 - val_accuracy: 0.7429\n",
      "Epoch 77/100\n",
      "1/1 [==============================] - 0s 42ms/step - loss: 0.2112 - accuracy: 0.9000 - val_loss: 0.4385 - val_accuracy: 0.7429\n",
      "Epoch 78/100\n",
      "1/1 [==============================] - 0s 58ms/step - loss: 0.2099 - accuracy: 0.9000 - val_loss: 0.4380 - val_accuracy: 0.7429\n",
      "Epoch 79/100\n",
      "1/1 [==============================] - 0s 57ms/step - loss: 0.2087 - accuracy: 0.9000 - val_loss: 0.4376 - val_accuracy: 0.7429\n",
      "Epoch 80/100\n",
      "1/1 [==============================] - 0s 60ms/step - loss: 0.2076 - accuracy: 0.9000 - val_loss: 0.4372 - val_accuracy: 0.7429\n",
      "Epoch 81/100\n",
      "1/1 [==============================] - 0s 60ms/step - loss: 0.2064 - accuracy: 0.9000 - val_loss: 0.4367 - val_accuracy: 0.7429\n",
      "Epoch 82/100\n",
      "1/1 [==============================] - 0s 55ms/step - loss: 0.2053 - accuracy: 0.9000 - val_loss: 0.4363 - val_accuracy: 0.7429\n",
      "Epoch 83/100\n",
      "1/1 [==============================] - 0s 44ms/step - loss: 0.2042 - accuracy: 0.9000 - val_loss: 0.4358 - val_accuracy: 0.7429\n",
      "Epoch 84/100\n",
      "1/1 [==============================] - 0s 61ms/step - loss: 0.2032 - accuracy: 0.9000 - val_loss: 0.4353 - val_accuracy: 0.7429\n",
      "Epoch 85/100\n",
      "1/1 [==============================] - 0s 45ms/step - loss: 0.2022 - accuracy: 0.9000 - val_loss: 0.4348 - val_accuracy: 0.7429\n",
      "Epoch 86/100\n",
      "1/1 [==============================] - 0s 60ms/step - loss: 0.2012 - accuracy: 0.9000 - val_loss: 0.4343 - val_accuracy: 0.7429\n",
      "Epoch 87/100\n",
      "1/1 [==============================] - 0s 55ms/step - loss: 0.2002 - accuracy: 0.9000 - val_loss: 0.4337 - val_accuracy: 0.7429\n",
      "Epoch 88/100\n",
      "1/1 [==============================] - 0s 44ms/step - loss: 0.1992 - accuracy: 0.9000 - val_loss: 0.4332 - val_accuracy: 0.7429\n",
      "Epoch 89/100\n",
      "1/1 [==============================] - 0s 41ms/step - loss: 0.1983 - accuracy: 0.9000 - val_loss: 0.4326 - val_accuracy: 0.7429\n",
      "Epoch 90/100\n",
      "1/1 [==============================] - 0s 39ms/step - loss: 0.1974 - accuracy: 0.9000 - val_loss: 0.4320 - val_accuracy: 0.7429\n",
      "Epoch 91/100\n",
      "1/1 [==============================] - 0s 43ms/step - loss: 0.1965 - accuracy: 0.9000 - val_loss: 0.4314 - val_accuracy: 0.7429\n",
      "Epoch 92/100\n",
      "1/1 [==============================] - 0s 39ms/step - loss: 0.1956 - accuracy: 0.9000 - val_loss: 0.4308 - val_accuracy: 0.7429\n",
      "Epoch 93/100\n",
      "1/1 [==============================] - 0s 62ms/step - loss: 0.1947 - accuracy: 0.9000 - val_loss: 0.4302 - val_accuracy: 0.7429\n",
      "Epoch 94/100\n",
      "1/1 [==============================] - 0s 54ms/step - loss: 0.1939 - accuracy: 0.9000 - val_loss: 0.4296 - val_accuracy: 0.7429\n",
      "Epoch 95/100\n",
      "1/1 [==============================] - 0s 39ms/step - loss: 0.1931 - accuracy: 0.9000 - val_loss: 0.4289 - val_accuracy: 0.7429\n",
      "Epoch 96/100\n",
      "1/1 [==============================] - 0s 54ms/step - loss: 0.1923 - accuracy: 0.9000 - val_loss: 0.4283 - val_accuracy: 0.7429\n",
      "Epoch 97/100\n",
      "1/1 [==============================] - 0s 57ms/step - loss: 0.1915 - accuracy: 0.9000 - val_loss: 0.4276 - val_accuracy: 0.7429\n",
      "Epoch 98/100\n",
      "1/1 [==============================] - 0s 42ms/step - loss: 0.1907 - accuracy: 0.9000 - val_loss: 0.4269 - val_accuracy: 0.7429\n",
      "Epoch 99/100\n",
      "1/1 [==============================] - 0s 40ms/step - loss: 0.1899 - accuracy: 0.9000 - val_loss: 0.4263 - val_accuracy: 0.7429\n",
      "Epoch 100/100\n",
      "1/1 [==============================] - 0s 57ms/step - loss: 0.1891 - accuracy: 0.9000 - val_loss: 0.4256 - val_accuracy: 0.7429\n"
     ]
    }
   ],
   "source": [
    "history=model.fit(trainX,trainY,validation_data=(testX,testY),epochs=100)"
   ]
  },
  {
   "cell_type": "code",
   "execution_count": 7,
   "metadata": {
    "colab": {
     "base_uri": "https://localhost:8080/",
     "height": 430
    },
    "executionInfo": {
     "elapsed": 15,
     "status": "ok",
     "timestamp": 1680760856475,
     "user": {
      "displayName": "Sneha Kadam",
      "userId": "00740706004237501599"
     },
     "user_tz": -330
    },
    "id": "c4oAGWH4JSP5",
    "outputId": "1f9cb19c-8506-40de-a3f2-857602aaa094"
   },
   "outputs": [
    {
     "data": {
      "image/png": "[encoded data removed]",
      "text/plain": [
       "<Figure size 640x480 with 1 Axes>"
      ]
     },
     "metadata": {},
     "output_type": "display_data"
    }
   ],
   "source": [
    "pyplot.plot(history.history['accuracy'],label='train')\n",
    "pyplot.plot(history.history['val_accuracy'],label='test')\n",
    "pyplot.legend()\n",
    "pyplot.show()"
   ]
  },
  {
   "cell_type": "code",
   "execution_count": 9,
   "metadata": {
    "executionInfo": {
     "elapsed": 11,
     "status": "ok",
     "timestamp": 1680760988425,
     "user": {
      "displayName": "Sneha Kadam",
      "userId": "00740706004237501599"
     },
     "user_tz": -330
    },
    "id": "du6IAibGJ1ng"
   },
   "outputs": [],
   "source": [
    "from keras.regularizers import l2"
   ]
  },
  {
   "cell_type": "code",
   "execution_count": 10,
   "metadata": {
    "executionInfo": {
     "elapsed": 391,
     "status": "ok",
     "timestamp": 1680761109242,
     "user": {
      "displayName": "Sneha Kadam",
      "userId": "00740706004237501599"
     },
     "user_tz": -330
    },
    "id": "hGbnYnlyKNXR"
   },
   "outputs": [],
   "source": [
    "model=Sequential()\n",
    "model.add(Dense(500,input_dim=2,activation='relu',kernel_regularizer=l2(0.001)))\n",
    "model.add(Dense(1,activation='sigmoid'))"
   ]
  },
  {
   "cell_type": "code",
   "execution_count": 11,
   "metadata": {
    "colab": {
     "base_uri": "https://localhost:8080/"
    },
    "executionInfo": {
     "elapsed": 391,
     "status": "ok",
     "timestamp": 1680761121013,
     "user": {
      "displayName": "Sneha Kadam",
      "userId": "00740706004237501599"
     },
     "user_tz": -330
    },
    "id": "zIORx6m7KymY",
    "outputId": "f7804b08-112c-4a8f-f9c0-7952b4a2edad"
   },
   "outputs": [
    {
     "name": "stdout",
     "output_type": "stream",
     "text": [
      "Model: \"sequential_1\"\n",
      "_________________________________________________________________\n",
      " Layer (type)                Output Shape              Param #   \n",
      "=================================================================\n",
      " dense_2 (Dense)             (None, 500)               1500      \n",
      "                                                                 \n",
      " dense_3 (Dense)             (None, 1)                 501       \n",
      "                                                                 \n",
      "=================================================================\n",
      "Total params: 2,001\n",
      "Trainable params: 2,001\n",
      "Non-trainable params: 0\n",
      "_________________________________________________________________\n"
     ]
    }
   ],
   "source": [
    "model.summary()"
   ]
  },
  {
   "cell_type": "code",
   "execution_count": 12,
   "metadata": {
    "executionInfo": {
     "elapsed": 521,
     "status": "ok",
     "timestamp": 1680761176167,
     "user": {
      "displayName": "Sneha Kadam",
      "userId": "00740706004237501599"
     },
     "user_tz": -330
    },
    "id": "Wo4IY9wvK1ov"
   },
   "outputs": [],
   "source": [
    "model.compile(loss='binary_crossentropy',optimizer='adam',metrics=['accuracy'])"
   ]
  },
  {
   "cell_type": "code",
   "execution_count": null,
   "metadata": {
    "id": "Hdt74x8PLD_2"
   },
   "outputs": [],
   "source": [
    "history=model.fit(trainX,trainY,validation_data=(testX,testY),epochs=100)"
   ]
  },
  {
   "cell_type": "code",
   "execution_count": 15,
   "metadata": {
    "colab": {
     "base_uri": "https://localhost:8080/",
     "height": 430
    },
    "executionInfo": {
     "elapsed": 491,
     "status": "ok",
     "timestamp": 1680761392916,
     "user": {
      "displayName": "Sneha Kadam",
      "userId": "00740706004237501599"
     },
     "user_tz": -330
    },
    "id": "nrp2iXIyLRz4",
    "outputId": "d2925545-e567-4e9d-d65e-7ee8fc044389"
   },
   "outputs": [
    {
     "data": {
      "image/png": "[encoded data removed]",
      "text/plain": [
       "<Figure size 640x480 with 1 Axes>"
      ]
     },
     "metadata": {},
     "output_type": "display_data"
    }
   ],
   "source": [
    "pyplot.plot(history.history['accuracy'],label='train')\n",
    "pyplot.plot(history.history['val_accuracy'],label='test')\n",
    "pyplot.legend()\n",
    "pyplot.show()"
   ]
  },
  {
   "cell_type": "code",
   "execution_count": 16,
   "metadata": {
    "executionInfo": {
     "elapsed": 4,
     "status": "ok",
     "timestamp": 1680761424315,
     "user": {
      "displayName": "Sneha Kadam",
      "userId": "00740706004237501599"
     },
     "user_tz": -330
    },
    "id": "71ZXFZUdL5EQ"
   },
   "outputs": [],
   "source": [
    "from keras.regularizers import l1_l2"
   ]
  },
  {
   "cell_type": "code",
   "execution_count": 17,
   "metadata": {
    "executionInfo": {
     "elapsed": 399,
     "status": "ok",
     "timestamp": 1680761608696,
     "user": {
      "displayName": "Sneha Kadam",
      "userId": "00740706004237501599"
     },
     "user_tz": -330
    },
    "id": "HT0hJTAuMAj0"
   },
   "outputs": [],
   "source": [
    "model=Sequential()\n",
    "model.add(Dense(500,input_dim=2,activation='relu',kernel_regularizer=l1_l2(l1=0.001,l2=0.001)))\n",
    "model.add(Dense(1,activation='sigmoid'))\n",
    "model.compile(loss='binary_crossentropy',optimizer='adam',metrics=['accuracy'])"
   ]
  },
  {
   "cell_type": "code",
   "execution_count": 18,
   "metadata": {
    "colab": {
     "base_uri": "https://localhost:8080/"
    },
    "executionInfo": {
     "elapsed": 9,
     "status": "ok",
     "timestamp": 1680761619206,
     "user": {
      "displayName": "Sneha Kadam",
      "userId": "00740706004237501599"
     },
     "user_tz": -330
    },
    "id": "MDyQzmBWMtoz",
    "outputId": "c8ae3eca-9e73-4e48-c797-53a2cc6543a5"
   },
   "outputs": [
    {
     "name": "stdout",
     "output_type": "stream",
     "text": [
      "Model: \"sequential_2\"\n",
      "_________________________________________________________________\n",
      " Layer (type)                Output Shape              Param #   \n",
      "=================================================================\n",
      " dense_4 (Dense)             (None, 500)               1500      \n",
      "                                                                 \n",
      " dense_5 (Dense)             (None, 1)                 501       \n",
      "                                                                 \n",
      "=================================================================\n",
      "Total params: 2,001\n",
      "Trainable params: 2,001\n",
      "Non-trainable params: 0\n",
      "_________________________________________________________________\n"
     ]
    }
   ],
   "source": [
    "model.summary()"
   ]
  },
  {
   "cell_type": "code",
   "execution_count": 19,
   "metadata": {
    "colab": {
     "base_uri": "https://localhost:8080/"
    },
    "executionInfo": {
     "elapsed": 12359,
     "status": "ok",
     "timestamp": 1680761690016,
     "user": {
      "displayName": "Sneha Kadam",
      "userId": "00740706004237501599"
     },
     "user_tz": -330
    },
    "id": "NdwmP0k6MwNA",
    "outputId": "6a230b54-fdb1-489b-fea0-6d89363ef8e8"
   },
   "outputs": [
    {
     "name": "stdout",
     "output_type": "stream",
     "text": [
      "Epoch 1/100\n",
      "1/1 [==============================] - 2s 2s/step - loss: 0.7275 - accuracy: 0.8333 - val_loss: 0.7306 - val_accuracy: 0.6571\n",
      "Epoch 2/100\n",
      "1/1 [==============================] - 0s 108ms/step - loss: 0.7116 - accuracy: 0.8667 - val_loss: 0.7203 - val_accuracy: 0.6857\n",
      "Epoch 3/100\n",
      "1/1 [==============================] - 0s 111ms/step - loss: 0.6962 - accuracy: 0.8333 - val_loss: 0.7105 - val_accuracy: 0.6857\n",
      "Epoch 4/100\n",
      "1/1 [==============================] - 0s 107ms/step - loss: 0.6812 - accuracy: 0.8333 - val_loss: 0.7010 - val_accuracy: 0.6857\n",
      "Epoch 5/100\n",
      "1/1 [==============================] - 0s 119ms/step - loss: 0.6667 - accuracy: 0.8333 - val_loss: 0.6919 - val_accuracy: 0.6857\n",
      "Epoch 6/100\n",
      "1/1 [==============================] - 0s 112ms/step - loss: 0.6526 - accuracy: 0.8333 - val_loss: 0.6832 - val_accuracy: 0.6857\n",
      "Epoch 7/100\n",
      "1/1 [==============================] - 0s 116ms/step - loss: 0.6390 - accuracy: 0.8333 - val_loss: 0.6748 - val_accuracy: 0.6857\n",
      "Epoch 8/100\n",
      "1/1 [==============================] - 0s 134ms/step - loss: 0.6257 - accuracy: 0.8667 - val_loss: 0.6668 - val_accuracy: 0.6857\n",
      "Epoch 9/100\n",
      "1/1 [==============================] - 0s 129ms/step - loss: 0.6128 - accuracy: 0.8667 - val_loss: 0.6591 - val_accuracy: 0.6857\n",
      "Epoch 10/100\n",
      "1/1 [==============================] - 0s 135ms/step - loss: 0.6003 - accuracy: 0.8667 - val_loss: 0.6517 - val_accuracy: 0.7000\n",
      "Epoch 11/100\n",
      "1/1 [==============================] - 0s 153ms/step - loss: 0.5882 - accuracy: 0.8667 - val_loss: 0.6446 - val_accuracy: 0.7143\n",
      "Epoch 12/100\n",
      "1/1 [==============================] - 0s 175ms/step - loss: 0.5765 - accuracy: 0.8667 - val_loss: 0.6378 - val_accuracy: 0.7143\n",
      "Epoch 13/100\n",
      "1/1 [==============================] - 0s 113ms/step - loss: 0.5651 - accuracy: 0.8667 - val_loss: 0.6314 - val_accuracy: 0.7143\n",
      "Epoch 14/100\n",
      "1/1 [==============================] - 0s 66ms/step - loss: 0.5541 - accuracy: 0.8667 - val_loss: 0.6252 - val_accuracy: 0.7143\n",
      "Epoch 15/100\n",
      "1/1 [==============================] - 0s 68ms/step - loss: 0.5434 - accuracy: 0.8667 - val_loss: 0.6193 - val_accuracy: 0.7143\n",
      "Epoch 16/100\n",
      "1/1 [==============================] - 0s 71ms/step - loss: 0.5331 - accuracy: 0.8667 - val_loss: 0.6137 - val_accuracy: 0.7143\n",
      "Epoch 17/100\n",
      "1/1 [==============================] - 0s 65ms/step - loss: 0.5231 - accuracy: 0.8667 - val_loss: 0.6084 - val_accuracy: 0.7143\n",
      "Epoch 18/100\n",
      "1/1 [==============================] - 0s 128ms/step - loss: 0.5134 - accuracy: 0.8667 - val_loss: 0.6033 - val_accuracy: 0.7143\n",
      "Epoch 19/100\n",
      "1/1 [==============================] - 0s 90ms/step - loss: 0.5040 - accuracy: 0.8667 - val_loss: 0.5984 - val_accuracy: 0.7143\n",
      "Epoch 20/100\n",
      "1/1 [==============================] - 0s 72ms/step - loss: 0.4948 - accuracy: 0.8667 - val_loss: 0.5938 - val_accuracy: 0.7143\n",
      "Epoch 21/100\n",
      "1/1 [==============================] - 0s 63ms/step - loss: 0.4860 - accuracy: 0.8667 - val_loss: 0.5894 - val_accuracy: 0.7143\n",
      "Epoch 22/100\n",
      "1/1 [==============================] - 0s 54ms/step - loss: 0.4774 - accuracy: 0.8667 - val_loss: 0.5853 - val_accuracy: 0.7143\n",
      "Epoch 23/100\n",
      "1/1 [==============================] - 0s 54ms/step - loss: 0.4692 - accuracy: 0.8667 - val_loss: 0.5813 - val_accuracy: 0.7143\n",
      "Epoch 24/100\n",
      "1/1 [==============================] - 0s 56ms/step - loss: 0.4611 - accuracy: 0.8667 - val_loss: 0.5776 - val_accuracy: 0.7143\n",
      "Epoch 25/100\n",
      "1/1 [==============================] - 0s 43ms/step - loss: 0.4534 - accuracy: 0.8667 - val_loss: 0.5741 - val_accuracy: 0.7143\n",
      "Epoch 26/100\n",
      "1/1 [==============================] - 0s 41ms/step - loss: 0.4459 - accuracy: 0.8667 - val_loss: 0.5708 - val_accuracy: 0.7143\n",
      "Epoch 27/100\n",
      "1/1 [==============================] - 0s 40ms/step - loss: 0.4386 - accuracy: 0.8667 - val_loss: 0.5676 - val_accuracy: 0.7143\n",
      "Epoch 28/100\n",
      "1/1 [==============================] - 0s 59ms/step - loss: 0.4316 - accuracy: 0.8667 - val_loss: 0.5647 - val_accuracy: 0.7143\n",
      "Epoch 29/100\n",
      "1/1 [==============================] - 0s 42ms/step - loss: 0.4249 - accuracy: 0.8667 - val_loss: 0.5619 - val_accuracy: 0.7143\n",
      "Epoch 30/100\n",
      "1/1 [==============================] - 0s 56ms/step - loss: 0.4184 - accuracy: 0.9000 - val_loss: 0.5593 - val_accuracy: 0.7143\n",
      "Epoch 31/100\n",
      "1/1 [==============================] - 0s 40ms/step - loss: 0.4121 - accuracy: 0.9000 - val_loss: 0.5569 - val_accuracy: 0.7143\n",
      "Epoch 32/100\n",
      "1/1 [==============================] - 0s 55ms/step - loss: 0.4060 - accuracy: 0.9000 - val_loss: 0.5546 - val_accuracy: 0.7286\n",
      "Epoch 33/100\n",
      "1/1 [==============================] - 0s 43ms/step - loss: 0.4001 - accuracy: 0.9000 - val_loss: 0.5524 - val_accuracy: 0.7286\n",
      "Epoch 34/100\n",
      "1/1 [==============================] - 0s 43ms/step - loss: 0.3945 - accuracy: 0.9000 - val_loss: 0.5504 - val_accuracy: 0.7286\n",
      "Epoch 35/100\n",
      "1/1 [==============================] - 0s 59ms/step - loss: 0.3891 - accuracy: 0.9000 - val_loss: 0.5485 - val_accuracy: 0.7286\n",
      "Epoch 36/100\n",
      "1/1 [==============================] - 0s 40ms/step - loss: 0.3839 - accuracy: 0.9000 - val_loss: 0.5466 - val_accuracy: 0.7286\n",
      "Epoch 37/100\n",
      "1/1 [==============================] - 0s 55ms/step - loss: 0.3789 - accuracy: 0.9000 - val_loss: 0.5449 - val_accuracy: 0.7286\n",
      "Epoch 38/100\n",
      "1/1 [==============================] - 0s 40ms/step - loss: 0.3741 - accuracy: 0.9000 - val_loss: 0.5432 - val_accuracy: 0.7286\n",
      "Epoch 39/100\n",
      "1/1 [==============================] - 0s 49ms/step - loss: 0.3695 - accuracy: 0.9000 - val_loss: 0.5417 - val_accuracy: 0.7286\n",
      "Epoch 40/100\n",
      "1/1 [==============================] - 0s 41ms/step - loss: 0.3651 - accuracy: 0.9000 - val_loss: 0.5402 - val_accuracy: 0.7286\n",
      "Epoch 41/100\n",
      "1/1 [==============================] - 0s 38ms/step - loss: 0.3609 - accuracy: 0.9000 - val_loss: 0.5387 - val_accuracy: 0.7286\n",
      "Epoch 42/100\n",
      "1/1 [==============================] - 0s 57ms/step - loss: 0.3568 - accuracy: 0.9000 - val_loss: 0.5373 - val_accuracy: 0.7286\n",
      "Epoch 43/100\n",
      "1/1 [==============================] - 0s 40ms/step - loss: 0.3528 - accuracy: 0.9000 - val_loss: 0.5359 - val_accuracy: 0.7286\n",
      "Epoch 44/100\n",
      "1/1 [==============================] - 0s 48ms/step - loss: 0.3490 - accuracy: 0.9000 - val_loss: 0.5346 - val_accuracy: 0.7286\n",
      "Epoch 45/100\n",
      "1/1 [==============================] - 0s 44ms/step - loss: 0.3454 - accuracy: 0.9000 - val_loss: 0.5333 - val_accuracy: 0.7286\n",
      "Epoch 46/100\n",
      "1/1 [==============================] - 0s 42ms/step - loss: 0.3419 - accuracy: 0.9000 - val_loss: 0.5321 - val_accuracy: 0.7286\n",
      "Epoch 47/100\n",
      "1/1 [==============================] - 0s 44ms/step - loss: 0.3385 - accuracy: 0.9333 - val_loss: 0.5308 - val_accuracy: 0.7286\n",
      "Epoch 48/100\n",
      "1/1 [==============================] - 0s 57ms/step - loss: 0.3353 - accuracy: 0.9333 - val_loss: 0.5296 - val_accuracy: 0.7286\n",
      "Epoch 49/100\n",
      "1/1 [==============================] - 0s 54ms/step - loss: 0.3321 - accuracy: 0.9333 - val_loss: 0.5284 - val_accuracy: 0.7286\n",
      "Epoch 50/100\n",
      "1/1 [==============================] - 0s 43ms/step - loss: 0.3291 - accuracy: 0.9333 - val_loss: 0.5272 - val_accuracy: 0.7286\n",
      "Epoch 51/100\n",
      "1/1 [==============================] - 0s 42ms/step - loss: 0.3262 - accuracy: 0.9333 - val_loss: 0.5260 - val_accuracy: 0.7286\n",
      "Epoch 52/100\n",
      "1/1 [==============================] - 0s 39ms/step - loss: 0.3235 - accuracy: 0.9000 - val_loss: 0.5248 - val_accuracy: 0.7286\n",
      "Epoch 53/100\n",
      "1/1 [==============================] - 0s 57ms/step - loss: 0.3208 - accuracy: 0.9000 - val_loss: 0.5236 - val_accuracy: 0.7286\n",
      "Epoch 54/100\n",
      "1/1 [==============================] - 0s 41ms/step - loss: 0.3182 - accuracy: 0.9000 - val_loss: 0.5224 - val_accuracy: 0.7286\n",
      "Epoch 55/100\n",
      "1/1 [==============================] - 0s 42ms/step - loss: 0.3157 - accuracy: 0.9000 - val_loss: 0.5212 - val_accuracy: 0.7286\n",
      "Epoch 56/100\n",
      "1/1 [==============================] - 0s 39ms/step - loss: 0.3133 - accuracy: 0.9000 - val_loss: 0.5200 - val_accuracy: 0.7286\n",
      "Epoch 57/100\n",
      "1/1 [==============================] - 0s 39ms/step - loss: 0.3110 - accuracy: 0.9000 - val_loss: 0.5188 - val_accuracy: 0.7286\n",
      "Epoch 58/100\n",
      "1/1 [==============================] - 0s 55ms/step - loss: 0.3088 - accuracy: 0.9000 - val_loss: 0.5176 - val_accuracy: 0.7286\n",
      "Epoch 59/100\n",
      "1/1 [==============================] - 0s 47ms/step - loss: 0.3066 - accuracy: 0.9000 - val_loss: 0.5164 - val_accuracy: 0.7286\n",
      "Epoch 60/100\n",
      "1/1 [==============================] - 0s 63ms/step - loss: 0.3045 - accuracy: 0.9000 - val_loss: 0.5152 - val_accuracy: 0.7286\n",
      "Epoch 61/100\n",
      "1/1 [==============================] - 0s 58ms/step - loss: 0.3025 - accuracy: 0.9000 - val_loss: 0.5139 - val_accuracy: 0.7286\n",
      "Epoch 62/100\n",
      "1/1 [==============================] - 0s 54ms/step - loss: 0.3006 - accuracy: 0.9000 - val_loss: 0.5127 - val_accuracy: 0.7429\n",
      "Epoch 63/100\n",
      "1/1 [==============================] - 0s 62ms/step - loss: 0.2987 - accuracy: 0.9000 - val_loss: 0.5114 - val_accuracy: 0.7429\n",
      "Epoch 64/100\n",
      "1/1 [==============================] - 0s 46ms/step - loss: 0.2968 - accuracy: 0.9000 - val_loss: 0.5102 - val_accuracy: 0.7429\n",
      "Epoch 65/100\n",
      "1/1 [==============================] - 0s 40ms/step - loss: 0.2951 - accuracy: 0.9000 - val_loss: 0.5089 - val_accuracy: 0.7429\n",
      "Epoch 66/100\n",
      "1/1 [==============================] - 0s 61ms/step - loss: 0.2933 - accuracy: 0.9000 - val_loss: 0.5077 - val_accuracy: 0.7429\n",
      "Epoch 67/100\n",
      "1/1 [==============================] - 0s 63ms/step - loss: 0.2917 - accuracy: 0.9000 - val_loss: 0.5064 - val_accuracy: 0.7429\n",
      "Epoch 68/100\n",
      "1/1 [==============================] - 0s 57ms/step - loss: 0.2900 - accuracy: 0.9000 - val_loss: 0.5051 - val_accuracy: 0.7429\n",
      "Epoch 69/100\n",
      "1/1 [==============================] - 0s 39ms/step - loss: 0.2885 - accuracy: 0.9000 - val_loss: 0.5038 - val_accuracy: 0.7429\n",
      "Epoch 70/100\n",
      "1/1 [==============================] - 0s 42ms/step - loss: 0.2869 - accuracy: 0.9000 - val_loss: 0.5026 - val_accuracy: 0.7429\n",
      "Epoch 71/100\n",
      "1/1 [==============================] - 0s 39ms/step - loss: 0.2855 - accuracy: 0.9000 - val_loss: 0.5013 - val_accuracy: 0.7429\n",
      "Epoch 72/100\n",
      "1/1 [==============================] - 0s 55ms/step - loss: 0.2840 - accuracy: 0.9000 - val_loss: 0.5001 - val_accuracy: 0.7429\n",
      "Epoch 73/100\n",
      "1/1 [==============================] - 0s 54ms/step - loss: 0.2826 - accuracy: 0.9000 - val_loss: 0.4988 - val_accuracy: 0.7429\n",
      "Epoch 74/100\n",
      "1/1 [==============================] - 0s 41ms/step - loss: 0.2813 - accuracy: 0.9000 - val_loss: 0.4976 - val_accuracy: 0.7429\n",
      "Epoch 75/100\n",
      "1/1 [==============================] - 0s 57ms/step - loss: 0.2800 - accuracy: 0.9000 - val_loss: 0.4964 - val_accuracy: 0.7429\n",
      "Epoch 76/100\n",
      "1/1 [==============================] - 0s 56ms/step - loss: 0.2787 - accuracy: 0.9000 - val_loss: 0.4952 - val_accuracy: 0.7429\n",
      "Epoch 77/100\n",
      "1/1 [==============================] - 0s 56ms/step - loss: 0.2775 - accuracy: 0.9000 - val_loss: 0.4940 - val_accuracy: 0.7429\n",
      "Epoch 78/100\n",
      "1/1 [==============================] - 0s 51ms/step - loss: 0.2763 - accuracy: 0.9000 - val_loss: 0.4928 - val_accuracy: 0.7429\n",
      "Epoch 79/100\n",
      "1/1 [==============================] - 0s 55ms/step - loss: 0.2751 - accuracy: 0.9000 - val_loss: 0.4917 - val_accuracy: 0.7429\n",
      "Epoch 80/100\n",
      "1/1 [==============================] - 0s 54ms/step - loss: 0.2740 - accuracy: 0.9000 - val_loss: 0.4906 - val_accuracy: 0.7429\n",
      "Epoch 81/100\n",
      "1/1 [==============================] - 0s 56ms/step - loss: 0.2728 - accuracy: 0.9000 - val_loss: 0.4895 - val_accuracy: 0.7429\n",
      "Epoch 82/100\n",
      "1/1 [==============================] - 0s 41ms/step - loss: 0.2717 - accuracy: 0.9000 - val_loss: 0.4884 - val_accuracy: 0.7429\n",
      "Epoch 83/100\n",
      "1/1 [==============================] - 0s 40ms/step - loss: 0.2707 - accuracy: 0.9000 - val_loss: 0.4873 - val_accuracy: 0.7429\n",
      "Epoch 84/100\n",
      "1/1 [==============================] - 0s 39ms/step - loss: 0.2696 - accuracy: 0.9000 - val_loss: 0.4863 - val_accuracy: 0.7429\n",
      "Epoch 85/100\n",
      "1/1 [==============================] - 0s 53ms/step - loss: 0.2686 - accuracy: 0.9000 - val_loss: 0.4853 - val_accuracy: 0.7429\n",
      "Epoch 86/100\n",
      "1/1 [==============================] - 0s 43ms/step - loss: 0.2676 - accuracy: 0.9000 - val_loss: 0.4843 - val_accuracy: 0.7429\n",
      "Epoch 87/100\n",
      "1/1 [==============================] - 0s 42ms/step - loss: 0.2666 - accuracy: 0.9000 - val_loss: 0.4834 - val_accuracy: 0.7429\n",
      "Epoch 88/100\n",
      "1/1 [==============================] - 0s 56ms/step - loss: 0.2657 - accuracy: 0.9000 - val_loss: 0.4824 - val_accuracy: 0.7429\n",
      "Epoch 89/100\n",
      "1/1 [==============================] - 0s 42ms/step - loss: 0.2647 - accuracy: 0.9000 - val_loss: 0.4815 - val_accuracy: 0.7429\n",
      "Epoch 90/100\n",
      "1/1 [==============================] - 0s 55ms/step - loss: 0.2638 - accuracy: 0.9000 - val_loss: 0.4806 - val_accuracy: 0.7429\n",
      "Epoch 91/100\n",
      "1/1 [==============================] - 0s 43ms/step - loss: 0.2629 - accuracy: 0.9000 - val_loss: 0.4797 - val_accuracy: 0.7571\n",
      "Epoch 92/100\n",
      "1/1 [==============================] - 0s 40ms/step - loss: 0.2620 - accuracy: 0.9000 - val_loss: 0.4788 - val_accuracy: 0.7571\n",
      "Epoch 93/100\n",
      "1/1 [==============================] - 0s 59ms/step - loss: 0.2612 - accuracy: 0.9000 - val_loss: 0.4779 - val_accuracy: 0.7571\n",
      "Epoch 94/100\n",
      "1/1 [==============================] - 0s 59ms/step - loss: 0.2603 - accuracy: 0.9000 - val_loss: 0.4770 - val_accuracy: 0.7571\n",
      "Epoch 95/100\n",
      "1/1 [==============================] - 0s 56ms/step - loss: 0.2595 - accuracy: 0.9000 - val_loss: 0.4762 - val_accuracy: 0.7571\n",
      "Epoch 96/100\n",
      "1/1 [==============================] - 0s 40ms/step - loss: 0.2587 - accuracy: 0.9000 - val_loss: 0.4754 - val_accuracy: 0.7571\n",
      "Epoch 97/100\n",
      "1/1 [==============================] - 0s 69ms/step - loss: 0.2579 - accuracy: 0.9000 - val_loss: 0.4746 - val_accuracy: 0.7571\n",
      "Epoch 98/100\n",
      "1/1 [==============================] - 0s 39ms/step - loss: 0.2571 - accuracy: 0.9000 - val_loss: 0.4738 - val_accuracy: 0.7571\n",
      "Epoch 99/100\n",
      "1/1 [==============================] - 0s 39ms/step - loss: 0.2563 - accuracy: 0.9000 - val_loss: 0.4730 - val_accuracy: 0.7571\n",
      "Epoch 100/100\n",
      "1/1 [==============================] - 0s 60ms/step - loss: 0.2555 - accuracy: 0.9000 - val_loss: 0.4723 - val_accuracy: 0.7571\n"
     ]
    }
   ],
   "source": [
    "history=model.fit(trainX,trainY,validation_data=(testX,testY),epochs=100)"
   ]
  },
  {
   "cell_type": "code",
   "execution_count": 21,
   "metadata": {
    "colab": {
     "base_uri": "https://localhost:8080/",
     "height": 430
    },
    "executionInfo": {
     "elapsed": 17,
     "status": "ok",
     "timestamp": 1680761802381,
     "user": {
      "displayName": "Sneha Kadam",
      "userId": "00740706004237501599"
     },
     "user_tz": -330
    },
    "id": "4EtEx_85M-km",
    "outputId": "65782352-911b-45f1-f792-29abe9d925e4"
   },
   "outputs": [
    {
     "data": {
      "image/png": "[encoded data removed]",
      "text/plain": [
       "<Figure size 640x480 with 1 Axes>"
      ]
     },
     "metadata": {},
     "output_type": "display_data"
    }
   ],
   "source": [
    "pyplot.plot(history.history['accuracy'],label='train')\n",
    "pyplot.plot(history.history['val_accuracy'],label='test')\n",
    "pyplot.legend()\n",
    "pyplot.show()"
   ]
  }
 ],
 "metadata": {
  "colab": {
   "authorship_tag": "ABX9TyNL4POXiP3SvbbXY1erfkow",
   "provenance": []
  },
  "kernelspec": {
   "display_name": "Python 3 (ipykernel)",
   "language": "python",
   "name": "python3"
  },
  "language_info": {
   "codemirror_mode": {
    "name": "ipython",
    "version": 3
   },
   "file_extension": ".py",
   "mimetype": "text/x-python",
   "name": "python",
   "nbconvert_exporter": "python",
   "pygments_lexer": "ipython3",
   "version": "3.11.4"
  }
 },
 "nbformat": 4,
 "nbformat_minor": 1
}
